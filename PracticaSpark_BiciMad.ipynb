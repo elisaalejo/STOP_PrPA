{
  "nbformat": 4,
  "nbformat_minor": 0,
  "metadata": {
    "colab": {
      "name": "Copia de PracticaSpark_BiciMad.ipynb",
      "provenance": [],
      "collapsed_sections": [
        "o6JLekeSkduf",
        "9xB2HI4RlCAv",
        "v7icuhVjkW3K",
        "7wH5DQtnk0o8",
        "A5-Zr47G_ogp"
      ],
      "toc_visible": true,
      "include_colab_link": true
    },
    "kernelspec": {
      "name": "python3",
      "display_name": "Python 3"
    }
  },
  "cells": [
    {
      "cell_type": "markdown",
      "metadata": {
        "id": "view-in-github",
        "colab_type": "text"
      },
      "source": [
        "<a href=\"https://colab.research.google.com/github/elisaalejo/STOP_PrPA/blob/master/PracticaSpark_BiciMad.ipynb\" target=\"_parent\"><img src=\"https://colab.research.google.com/assets/colab-badge.svg\" alt=\"Open In Colab\"/></a>"
      ]
    },
    {
      "cell_type": "markdown",
      "metadata": {
        "id": "o6JLekeSkduf",
        "colab_type": "text"
      },
      "source": [
        "# **Setup**\n",
        "\n",
        "Instalamos y configuramos las herramientas necesarias para empezar a trabajar"
      ]
    },
    {
      "cell_type": "code",
      "metadata": {
        "id": "1dvQgdvjkcPT",
        "colab_type": "code",
        "colab": {
          "base_uri": "https://localhost:8080/",
          "height": 1000
        },
        "outputId": "daa31a4d-e1aa-4fca-b20a-159c90c4a9d0"
      },
      "source": [
        "!apt-get install openjdk-8-jdk\n",
        "!apt install unzip\n",
        "import os\n",
        "os.environ[\"JAVA_HOME\"] = \"/usr/lib/jvm/java-8-openjdk-amd64\"\n",
        "!pip install pyspark"
      ],
      "execution_count": 3,
      "outputs": [
        {
          "output_type": "stream",
          "text": [
            "\rReading package lists... 0%\r\rReading package lists... 0%\r\rReading package lists... 0%\r\rReading package lists... 6%\r\rReading package lists... 6%\r\rReading package lists... 6%\r\rReading package lists... 6%\r\rReading package lists... 63%\r\rReading package lists... 63%\r\rReading package lists... 63%\r\rReading package lists... 63%\r\rReading package lists... 64%\r\rReading package lists... 71%\r\rReading package lists... 71%\r\rReading package lists... 71%\r\rReading package lists... 71%\r\rReading package lists... 81%\r\rReading package lists... 81%\r\rReading package lists... 81%\r\rReading package lists... 81%\r\rReading package lists... 81%\r\rReading package lists... 81%\r\rReading package lists... 81%\r\rReading package lists... 81%\r\rReading package lists... 87%\r\rReading package lists... 87%\r\rReading package lists... 87%\r\rReading package lists... 87%\r\rReading package lists... 93%\r\rReading package lists... 93%\r\rReading package lists... 93%\r\rReading package lists... 93%\r\rReading package lists... 93%\r\rReading package lists... 93%\r\rReading package lists... 94%\r\rReading package lists... 94%\r\rReading package lists... 95%\r\rReading package lists... 95%\r\rReading package lists... 98%\r\rReading package lists... 98%\r\rReading package lists... 98%\r\rReading package lists... 98%\r\rReading package lists... Done\r\n",
            "\rBuilding dependency tree... 0%\r\rBuilding dependency tree... 0%\r\rBuilding dependency tree... 50%\r\rBuilding dependency tree... 50%\r\rBuilding dependency tree       \r\n",
            "\rReading state information... 0%\r\rReading state information... 0%\r\rReading state information... Done\r\n",
            "The following additional packages will be installed:\n",
            "  fonts-dejavu-core fonts-dejavu-extra libatk-wrapper-java\n",
            "  libatk-wrapper-java-jni libxxf86dga1 openjdk-8-jdk-headless openjdk-8-jre\n",
            "  openjdk-8-jre-headless x11-utils\n",
            "Suggested packages:\n",
            "  openjdk-8-demo openjdk-8-source visualvm icedtea-8-plugin libnss-mdns\n",
            "  fonts-ipafont-gothic fonts-ipafont-mincho fonts-wqy-microhei\n",
            "  fonts-wqy-zenhei fonts-indic mesa-utils\n",
            "The following NEW packages will be installed:\n",
            "  fonts-dejavu-core fonts-dejavu-extra libatk-wrapper-java\n",
            "  libatk-wrapper-java-jni libxxf86dga1 openjdk-8-jdk openjdk-8-jdk-headless\n",
            "  openjdk-8-jre openjdk-8-jre-headless x11-utils\n",
            "0 upgraded, 10 newly installed, 0 to remove and 32 not upgraded.\n",
            "Need to get 40.7 MB of archives.\n",
            "After this operation, 153 MB of additional disk space will be used.\n",
            "\r0% [Working]\r            \rGet:1 http://archive.ubuntu.com/ubuntu bionic/main amd64 libxxf86dga1 amd64 2:1.1.4-1 [13.7 kB]\n",
            "\r0% [1 libxxf86dga1 13.7 kB/13.7 kB 100%]\r                                        \r2% [Working]\r            \rGet:2 http://archive.ubuntu.com/ubuntu bionic/main amd64 fonts-dejavu-core all 2.37-1 [1,041 kB]\n",
            "\r2% [2 fonts-dejavu-core 2,612 B/1,041 kB 0%]\r                                            \r6% [Working]\r            \rGet:3 http://archive.ubuntu.com/ubuntu bionic/main amd64 fonts-dejavu-extra all 2.37-1 [1,953 kB]\n",
            "\r6% [3 fonts-dejavu-extra 0 B/1,953 kB 0%]\r                                         \r12% [Working]\r             \rGet:4 http://archive.ubuntu.com/ubuntu bionic/main amd64 x11-utils amd64 7.7+3build1 [196 kB]\n",
            "\r12% [4 x11-utils 0 B/196 kB 0%]\r                               \r14% [Working]\r             \rGet:5 http://archive.ubuntu.com/ubuntu bionic/main amd64 libatk-wrapper-java all 0.33.3-20ubuntu0.1 [34.7 kB]\n",
            "\r14% [5 libatk-wrapper-java 7,180 B/34.7 kB 21%]\r                                               \r16% [Working]\r             \rGet:6 http://archive.ubuntu.com/ubuntu bionic/main amd64 libatk-wrapper-java-jni amd64 0.33.3-20ubuntu0.1 [28.3 kB]\n",
            "Get:7 http://archive.ubuntu.com/ubuntu bionic-updates/universe amd64 openjdk-8-jre-headless amd64 8u252-b09-1~18.04 [27.5 MB]\n",
            "Get:8 http://archive.ubuntu.com/ubuntu bionic-updates/universe amd64 openjdk-8-jre amd64 8u252-b09-1~18.04 [69.8 kB]\n",
            "Get:9 http://archive.ubuntu.com/ubuntu bionic-updates/universe amd64 openjdk-8-jdk-headless amd64 8u252-b09-1~18.04 [8,250 kB]\n",
            "Get:10 http://archive.ubuntu.com/ubuntu bionic-updates/universe amd64 openjdk-8-jdk amd64 8u252-b09-1~18.04 [1,622 kB]\n",
            "Fetched 40.7 MB in 2s (20.2 MB/s)\n",
            "Selecting previously unselected package libxxf86dga1:amd64.\n",
            "(Reading database ... 144467 files and directories currently installed.)\n",
            "Preparing to unpack .../0-libxxf86dga1_2%3a1.1.4-1_amd64.deb ...\n",
            "Unpacking libxxf86dga1:amd64 (2:1.1.4-1) ...\n",
            "Selecting previously unselected package fonts-dejavu-core.\n",
            "Preparing to unpack .../1-fonts-dejavu-core_2.37-1_all.deb ...\n",
            "Unpacking fonts-dejavu-core (2.37-1) ...\n",
            "Selecting previously unselected package fonts-dejavu-extra.\n",
            "Preparing to unpack .../2-fonts-dejavu-extra_2.37-1_all.deb ...\n",
            "Unpacking fonts-dejavu-extra (2.37-1) ...\n",
            "Selecting previously unselected package x11-utils.\n",
            "Preparing to unpack .../3-x11-utils_7.7+3build1_amd64.deb ...\n",
            "Unpacking x11-utils (7.7+3build1) ...\n",
            "Selecting previously unselected package libatk-wrapper-java.\n",
            "Preparing to unpack .../4-libatk-wrapper-java_0.33.3-20ubuntu0.1_all.deb ...\n",
            "Unpacking libatk-wrapper-java (0.33.3-20ubuntu0.1) ...\n",
            "Selecting previously unselected package libatk-wrapper-java-jni:amd64.\n",
            "Preparing to unpack .../5-libatk-wrapper-java-jni_0.33.3-20ubuntu0.1_amd64.deb ...\n",
            "Unpacking libatk-wrapper-java-jni:amd64 (0.33.3-20ubuntu0.1) ...\n",
            "Selecting previously unselected package openjdk-8-jre-headless:amd64.\n",
            "Preparing to unpack .../6-openjdk-8-jre-headless_8u252-b09-1~18.04_amd64.deb ...\n",
            "Unpacking openjdk-8-jre-headless:amd64 (8u252-b09-1~18.04) ...\n",
            "Selecting previously unselected package openjdk-8-jre:amd64.\n",
            "Preparing to unpack .../7-openjdk-8-jre_8u252-b09-1~18.04_amd64.deb ...\n",
            "Unpacking openjdk-8-jre:amd64 (8u252-b09-1~18.04) ...\n",
            "Selecting previously unselected package openjdk-8-jdk-headless:amd64.\n",
            "Preparing to unpack .../8-openjdk-8-jdk-headless_8u252-b09-1~18.04_amd64.deb ...\n",
            "Unpacking openjdk-8-jdk-headless:amd64 (8u252-b09-1~18.04) ...\n",
            "Selecting previously unselected package openjdk-8-jdk:amd64.\n",
            "Preparing to unpack .../9-openjdk-8-jdk_8u252-b09-1~18.04_amd64.deb ...\n",
            "Unpacking openjdk-8-jdk:amd64 (8u252-b09-1~18.04) ...\n",
            "Setting up fonts-dejavu-core (2.37-1) ...\n",
            "Setting up libxxf86dga1:amd64 (2:1.1.4-1) ...\n",
            "Setting up fonts-dejavu-extra (2.37-1) ...\n",
            "Setting up openjdk-8-jre-headless:amd64 (8u252-b09-1~18.04) ...\n",
            "update-alternatives: using /usr/lib/jvm/java-8-openjdk-amd64/jre/bin/orbd to provide /usr/bin/orbd (orbd) in auto mode\n",
            "update-alternatives: using /usr/lib/jvm/java-8-openjdk-amd64/jre/bin/servertool to provide /usr/bin/servertool (servertool) in auto mode\n",
            "update-alternatives: using /usr/lib/jvm/java-8-openjdk-amd64/jre/bin/tnameserv to provide /usr/bin/tnameserv (tnameserv) in auto mode\n",
            "Setting up openjdk-8-jdk-headless:amd64 (8u252-b09-1~18.04) ...\n",
            "update-alternatives: using /usr/lib/jvm/java-8-openjdk-amd64/bin/idlj to provide /usr/bin/idlj (idlj) in auto mode\n",
            "update-alternatives: using /usr/lib/jvm/java-8-openjdk-amd64/bin/wsimport to provide /usr/bin/wsimport (wsimport) in auto mode\n",
            "update-alternatives: using /usr/lib/jvm/java-8-openjdk-amd64/bin/jsadebugd to provide /usr/bin/jsadebugd (jsadebugd) in auto mode\n",
            "update-alternatives: using /usr/lib/jvm/java-8-openjdk-amd64/bin/native2ascii to provide /usr/bin/native2ascii (native2ascii) in auto mode\n",
            "update-alternatives: using /usr/lib/jvm/java-8-openjdk-amd64/bin/javah to provide /usr/bin/javah (javah) in auto mode\n",
            "update-alternatives: using /usr/lib/jvm/java-8-openjdk-amd64/bin/clhsdb to provide /usr/bin/clhsdb (clhsdb) in auto mode\n",
            "update-alternatives: using /usr/lib/jvm/java-8-openjdk-amd64/bin/extcheck to provide /usr/bin/extcheck (extcheck) in auto mode\n",
            "update-alternatives: using /usr/lib/jvm/java-8-openjdk-amd64/bin/hsdb to provide /usr/bin/hsdb (hsdb) in auto mode\n",
            "update-alternatives: using /usr/lib/jvm/java-8-openjdk-amd64/bin/schemagen to provide /usr/bin/schemagen (schemagen) in auto mode\n",
            "update-alternatives: using /usr/lib/jvm/java-8-openjdk-amd64/bin/xjc to provide /usr/bin/xjc (xjc) in auto mode\n",
            "update-alternatives: using /usr/lib/jvm/java-8-openjdk-amd64/bin/jhat to provide /usr/bin/jhat (jhat) in auto mode\n",
            "update-alternatives: using /usr/lib/jvm/java-8-openjdk-amd64/bin/wsgen to provide /usr/bin/wsgen (wsgen) in auto mode\n",
            "Setting up x11-utils (7.7+3build1) ...\n",
            "Setting up libatk-wrapper-java (0.33.3-20ubuntu0.1) ...\n",
            "Setting up libatk-wrapper-java-jni:amd64 (0.33.3-20ubuntu0.1) ...\n",
            "Setting up openjdk-8-jre:amd64 (8u252-b09-1~18.04) ...\n",
            "update-alternatives: using /usr/lib/jvm/java-8-openjdk-amd64/jre/bin/policytool to provide /usr/bin/policytool (policytool) in auto mode\n",
            "Setting up openjdk-8-jdk:amd64 (8u252-b09-1~18.04) ...\n",
            "update-alternatives: using /usr/lib/jvm/java-8-openjdk-amd64/bin/appletviewer to provide /usr/bin/appletviewer (appletviewer) in auto mode\n",
            "update-alternatives: using /usr/lib/jvm/java-8-openjdk-amd64/bin/jconsole to provide /usr/bin/jconsole (jconsole) in auto mode\n",
            "Processing triggers for man-db (2.8.3-2ubuntu0.1) ...\n",
            "Processing triggers for hicolor-icon-theme (0.17-2) ...\n",
            "Processing triggers for fontconfig (2.12.6-0ubuntu2) ...\n",
            "Processing triggers for mime-support (3.60ubuntu1) ...\n",
            "Processing triggers for libc-bin (2.27-3ubuntu1) ...\n",
            "/sbin/ldconfig.real: /usr/local/lib/python3.6/dist-packages/ideep4py/lib/libmkldnn.so.0 is not a symbolic link\n",
            "\n",
            "Reading package lists... Done\n",
            "Building dependency tree       \n",
            "Reading state information... Done\n",
            "unzip is already the newest version (6.0-21ubuntu1).\n",
            "0 upgraded, 0 newly installed, 0 to remove and 32 not upgraded.\n",
            "Collecting pyspark\n",
            "\u001b[?25l  Downloading https://files.pythonhosted.org/packages/9a/5a/271c416c1c2185b6cb0151b29a91fff6fcaed80173c8584ff6d20e46b465/pyspark-2.4.5.tar.gz (217.8MB)\n",
            "\u001b[K     |████████████████████████████████| 217.8MB 56kB/s \n",
            "\u001b[?25hCollecting py4j==0.10.7\n",
            "\u001b[?25l  Downloading https://files.pythonhosted.org/packages/e3/53/c737818eb9a7dc32a7cd4f1396e787bd94200c3997c72c1dbe028587bd76/py4j-0.10.7-py2.py3-none-any.whl (197kB)\n",
            "\u001b[K     |████████████████████████████████| 204kB 44.9MB/s \n",
            "\u001b[?25hBuilding wheels for collected packages: pyspark\n",
            "  Building wheel for pyspark (setup.py) ... \u001b[?25l\u001b[?25hdone\n",
            "  Created wheel for pyspark: filename=pyspark-2.4.5-py2.py3-none-any.whl size=218257927 sha256=66b965b0bc0b5de7985556a176f3c977bda7618d3449e3e5f97c3df28bb229f2\n",
            "  Stored in directory: /root/.cache/pip/wheels/bf/db/04/61d66a5939364e756eb1c1be4ec5bdce6e04047fc7929a3c3c\n",
            "Successfully built pyspark\n",
            "Installing collected packages: py4j, pyspark\n",
            "Successfully installed py4j-0.10.7 pyspark-2.4.5\n"
          ],
          "name": "stdout"
        }
      ]
    },
    {
      "cell_type": "code",
      "metadata": {
        "id": "7izn4SSoktQB",
        "colab_type": "code",
        "colab": {
          "base_uri": "https://localhost:8080/",
          "height": 0
        },
        "outputId": "cb9686f0-bb8b-444e-aeb1-a40276dc8969"
      },
      "source": [
        "!apt install unzip"
      ],
      "execution_count": 4,
      "outputs": [
        {
          "output_type": "stream",
          "text": [
            "Reading package lists... Done\n",
            "Building dependency tree       \n",
            "Reading state information... Done\n",
            "unzip is already the newest version (6.0-21ubuntu1).\n",
            "0 upgraded, 0 newly installed, 0 to remove and 32 not upgraded.\n"
          ],
          "name": "stdout"
        }
      ]
    },
    {
      "cell_type": "code",
      "metadata": {
        "id": "C1Yn_yv0kFQH",
        "colab_type": "code",
        "colab": {}
      },
      "source": [
        "import json\n",
        "import os\n",
        "import matplotlib.pyplot as plt\n",
        "import statistics as stats\n",
        "from pyspark import SparkContext"
      ],
      "execution_count": 0,
      "outputs": []
    },
    {
      "cell_type": "code",
      "metadata": {
        "id": "wewQ_aLlkFx3",
        "colab_type": "code",
        "colab": {}
      },
      "source": [
        "sc = SparkContext()"
      ],
      "execution_count": 0,
      "outputs": []
    },
    {
      "cell_type": "markdown",
      "metadata": {
        "id": "9xB2HI4RlCAv",
        "colab_type": "text"
      },
      "source": [
        "# **Descargamos los datasets de bicimad**\n",
        "Descargaremos cada dataset de la web oficial de biciMAD. Los renombraremos a '.zip' para poder descomprimirlos y una vez descomprimidos los movemos a la carpeta 'datasets'. Por último eliminamos los ficheros comprimidos."
      ]
    },
    {
      "cell_type": "code",
      "metadata": {
        "id": "zynUfS6zlO2x",
        "colab_type": "code",
        "colab": {}
      },
      "source": [
        "#Estructura de carpetas para el dataset\n",
        "!mkdir dataset\n",
        "!cd dataset/\n",
        "!mkdir dataset/usages\n",
        "!mkdir dataset/stations"
      ],
      "execution_count": 0,
      "outputs": []
    },
    {
      "cell_type": "markdown",
      "metadata": {
        "id": "v7icuhVjkW3K",
        "colab_type": "text"
      },
      "source": [
        "## Datasets de uso"
      ]
    },
    {
      "cell_type": "code",
      "metadata": {
        "id": "OsU-TGDTlc20",
        "colab_type": "code",
        "colab": {
          "base_uri": "https://localhost:8080/",
          "height": 276
        },
        "outputId": "eb5c711e-aa91-44b7-a81e-878ac0678c22"
      },
      "source": [
        "#Enero de 2019\n",
        "!wget -N \"https://opendata.emtmadrid.es/getattachment/2ebcc70a-4914-43c6-9ada-a0f0520032a4/201901_Usage_Bicimad.aspx\"\n",
        "!mv 201901_Usage_Bicimad.aspx 201901_Usage_Bicimad.zip\n",
        "!unzip 201901_Usage_Bicimad.zip\n",
        "!mv 201901_Usage_Bicimad.json dataset/usages\n",
        "!rm 201901_Usage_Bicimad.zip"
      ],
      "execution_count": 8,
      "outputs": [
        {
          "output_type": "stream",
          "text": [
            "--2020-06-05 06:46:55--  https://opendata.emtmadrid.es/getattachment/2ebcc70a-4914-43c6-9ada-a0f0520032a4/201901_Usage_Bicimad.aspx\n",
            "Resolving opendata.emtmadrid.es (opendata.emtmadrid.es)... 185.79.130.130\n",
            "Connecting to opendata.emtmadrid.es (opendata.emtmadrid.es)|185.79.130.130|:443... connected.\n",
            "HTTP request sent, awaiting response... 200 OK\n",
            "Length: 78311972 (75M) [application/zip]\n",
            "Saving to: ‘201901_Usage_Bicimad.aspx’\n",
            "\n",
            "201901_Usage_Bicima 100%[===================>]  74.68M  1.88MB/s    in 51s     \n",
            "\n",
            "2020-06-05 06:47:47 (1.46 MB/s) - ‘201901_Usage_Bicimad.aspx’ saved [78311972/78311972]\n",
            "\n",
            "Archive:  201901_Usage_Bicimad.zip\n",
            "  inflating: 201901_Usage_Bicimad.json  \n"
          ],
          "name": "stdout"
        }
      ]
    },
    {
      "cell_type": "code",
      "metadata": {
        "id": "0VdEV7PJ5gjH",
        "colab_type": "code",
        "colab": {
          "base_uri": "https://localhost:8080/",
          "height": 276
        },
        "outputId": "f9897622-b414-4116-b9ce-79e424cb32ff"
      },
      "source": [
        "\n",
        "#Febrero de 2019\n",
        "!wget -N \"https://opendata.emtmadrid.es/getattachment/aa8c34d2-ddba-46d9-b6db-882c0b4a12f0/201902_Usage_Bicimad.aspx\"\n",
        "!mv 201902_Usage_Bicimad.aspx 201902_Usage_Bicimad.zip \n",
        "!unzip 201902_Usage_Bicimad.zip\n",
        "!mv 201902_Usage_Bicimad.json dataset/usages\n",
        "!rm 201902_Usage_Bicimad.zip\n"
      ],
      "execution_count": 9,
      "outputs": [
        {
          "output_type": "stream",
          "text": [
            "--2020-06-05 06:47:57--  https://opendata.emtmadrid.es/getattachment/aa8c34d2-ddba-46d9-b6db-882c0b4a12f0/201902_Usage_Bicimad.aspx\n",
            "Resolving opendata.emtmadrid.es (opendata.emtmadrid.es)... 185.79.130.130\n",
            "Connecting to opendata.emtmadrid.es (opendata.emtmadrid.es)|185.79.130.130|:443... connected.\n",
            "HTTP request sent, awaiting response... 200 OK\n",
            "Length: 64069335 (61M) [application/zip]\n",
            "Saving to: ‘201902_Usage_Bicimad.aspx’\n",
            "\n",
            "201902_Usage_Bicima 100%[===================>]  61.10M  1.78MB/s    in 37s     \n",
            "\n",
            "2020-06-05 06:48:35 (1.64 MB/s) - ‘201902_Usage_Bicimad.aspx’ saved [64069335/64069335]\n",
            "\n",
            "Archive:  201902_Usage_Bicimad.zip\n",
            "  inflating: 201902_Usage_Bicimad.json  \n"
          ],
          "name": "stdout"
        }
      ]
    },
    {
      "cell_type": "code",
      "metadata": {
        "id": "o0QGROiOoPc_",
        "colab_type": "code",
        "colab": {
          "base_uri": "https://localhost:8080/",
          "height": 276
        },
        "outputId": "94c8aaaf-4e25-4318-9c48-aae035febb92"
      },
      "source": [
        "#Marzo de 2019\n",
        "!wget -N \"https://opendata.emtmadrid.es/getattachment/9407161f-c66e-4b80-ac22-0d58fe3e7a63/201903_Usage_Bicimad.aspx\"\n",
        "!mv 201903_Usage_Bicimad.aspx 201903_Usage_Bicimad.zip \n",
        "!unzip 201903_Usage_Bicimad.zip\n",
        "!mv 201903_Usage_Bicimad.json dataset/usages\n",
        "!rm 201903_Usage_Bicimad.zip"
      ],
      "execution_count": 10,
      "outputs": [
        {
          "output_type": "stream",
          "text": [
            "--2020-06-05 06:48:45--  https://opendata.emtmadrid.es/getattachment/9407161f-c66e-4b80-ac22-0d58fe3e7a63/201903_Usage_Bicimad.aspx\n",
            "Resolving opendata.emtmadrid.es (opendata.emtmadrid.es)... 185.79.130.130\n",
            "Connecting to opendata.emtmadrid.es (opendata.emtmadrid.es)|185.79.130.130|:443... connected.\n",
            "HTTP request sent, awaiting response... 200 OK\n",
            "Length: 29014154 (28M) [application/zip]\n",
            "Saving to: ‘201903_Usage_Bicimad.aspx’\n",
            "\n",
            "201903_Usage_Bicima 100%[===================>]  27.67M  1.87MB/s    in 16s     \n",
            "\n",
            "2020-06-05 06:49:01 (1.77 MB/s) - ‘201903_Usage_Bicimad.aspx’ saved [29014154/29014154]\n",
            "\n",
            "Archive:  201903_Usage_Bicimad.zip\n",
            "  inflating: 201903_Usage_Bicimad.json  \n"
          ],
          "name": "stdout"
        }
      ]
    },
    {
      "cell_type": "code",
      "metadata": {
        "id": "xsbs4nvAoa3A",
        "colab_type": "code",
        "colab": {
          "base_uri": "https://localhost:8080/",
          "height": 276
        },
        "outputId": "f89530f4-c364-45be-f7b2-1db3288e6afd"
      },
      "source": [
        "#Abril de 2019\n",
        "!wget -N \"https://opendata.emtmadrid.es/getattachment/fe6d4549-6e3d-4efe-8cb7-1669f8dd1c3d/201904_Usage_Bicimad.aspx\"\n",
        "!mv 201904_Usage_Bicimad.aspx 201904_Usage_Bicimad.zip \n",
        "!unzip 201904_Usage_Bicimad.zip\n",
        "!mv 201904_Usage_Bicimad.json dataset/usages\n",
        "!rm 201904_Usage_Bicimad.zip"
      ],
      "execution_count": 11,
      "outputs": [
        {
          "output_type": "stream",
          "text": [
            "--2020-06-05 06:49:09--  https://opendata.emtmadrid.es/getattachment/fe6d4549-6e3d-4efe-8cb7-1669f8dd1c3d/201904_Usage_Bicimad.aspx\n",
            "Resolving opendata.emtmadrid.es (opendata.emtmadrid.es)... 185.79.130.130\n",
            "Connecting to opendata.emtmadrid.es (opendata.emtmadrid.es)|185.79.130.130|:443... connected.\n",
            "HTTP request sent, awaiting response... 200 OK\n",
            "Length: 77609543 (74M) [application/zip]\n",
            "Saving to: ‘201904_Usage_Bicimad.aspx’\n",
            "\n",
            "201904_Usage_Bicima 100%[===================>]  74.01M  1.86MB/s    in 42s     \n",
            "\n",
            "2020-06-05 06:49:52 (1.76 MB/s) - ‘201904_Usage_Bicimad.aspx’ saved [77609543/77609543]\n",
            "\n",
            "Archive:  201904_Usage_Bicimad.zip\n",
            "  inflating: 201904_Usage_Bicimad.json  \n"
          ],
          "name": "stdout"
        }
      ]
    },
    {
      "cell_type": "code",
      "metadata": {
        "id": "mWgPfe7Now-P",
        "colab_type": "code",
        "colab": {
          "base_uri": "https://localhost:8080/",
          "height": 276
        },
        "outputId": "e1aebd85-cafb-4a53-9023-aebe5ae24d24"
      },
      "source": [
        "#Mayo de 2019\n",
        "!wget -N \"https://opendata.emtmadrid.es/getattachment/cda2be99-80ac-4bc9-b3a5-97c6c5e92f61/201905_Usage_Bicimad.aspx\"\n",
        "!mv 201905_Usage_Bicimad.aspx 201905_Usage_Bicimad.zip \n",
        "!unzip 201905_Usage_Bicimad.zip\n",
        "!mv 201905_Usage_Bicimad.json dataset/usages\n",
        "!rm 201905_Usage_Bicimad.zip"
      ],
      "execution_count": 12,
      "outputs": [
        {
          "output_type": "stream",
          "text": [
            "--2020-06-05 06:50:03--  https://opendata.emtmadrid.es/getattachment/cda2be99-80ac-4bc9-b3a5-97c6c5e92f61/201905_Usage_Bicimad.aspx\n",
            "Resolving opendata.emtmadrid.es (opendata.emtmadrid.es)... 185.79.130.130\n",
            "Connecting to opendata.emtmadrid.es (opendata.emtmadrid.es)|185.79.130.130|:443... connected.\n",
            "HTTP request sent, awaiting response... 200 OK\n",
            "Length: 48575839 (46M) [application/zip]\n",
            "Saving to: ‘201905_Usage_Bicimad.aspx’\n",
            "\n",
            "201905_Usage_Bicima 100%[===================>]  46.33M  1.89MB/s    in 26s     \n",
            "\n",
            "2020-06-05 06:50:30 (1.77 MB/s) - ‘201905_Usage_Bicimad.aspx’ saved [48575839/48575839]\n",
            "\n",
            "Archive:  201905_Usage_Bicimad.zip\n",
            "  inflating: 201905_Usage_Bicimad.json  \n"
          ],
          "name": "stdout"
        }
      ]
    },
    {
      "cell_type": "code",
      "metadata": {
        "id": "WhWzg0HZ5hKJ",
        "colab_type": "code",
        "colab": {
          "base_uri": "https://localhost:8080/",
          "height": 276
        },
        "outputId": "66660374-5ac4-4713-ee9f-c8e1a864773c"
      },
      "source": [
        "#Junio de 2019\n",
        "!wget -N \"https://opendata.emtmadrid.es/getattachment/7517a650-ccdf-4ab1-b1b0-a1d13694472e/201906_Usage_Bicimad.aspx\"\n",
        "!mv 201906_Usage_Bicimad.aspx 201906_Usage_Bicimad.zip\n",
        "!unzip 201906_Usage_Bicimad.zip\n",
        "!mv 201906_Usage_Bicimad.json dataset/usages\n",
        "!rm 201906_Usage_Bicimad.zip"
      ],
      "execution_count": 13,
      "outputs": [
        {
          "output_type": "stream",
          "text": [
            "--2020-06-05 06:50:39--  https://opendata.emtmadrid.es/getattachment/7517a650-ccdf-4ab1-b1b0-a1d13694472e/201906_Usage_Bicimad.aspx\n",
            "Resolving opendata.emtmadrid.es (opendata.emtmadrid.es)... 185.79.130.130\n",
            "Connecting to opendata.emtmadrid.es (opendata.emtmadrid.es)|185.79.130.130|:443... connected.\n",
            "HTTP request sent, awaiting response... 200 OK\n",
            "Length: 59678050 (57M) [application/zip]\n",
            "Saving to: ‘201906_Usage_Bicimad.aspx’\n",
            "\n",
            "201906_Usage_Bicima 100%[===================>]  56.91M  1.89MB/s    in 33s     \n",
            "\n",
            "2020-06-05 06:51:13 (1.74 MB/s) - ‘201906_Usage_Bicimad.aspx’ saved [59678050/59678050]\n",
            "\n",
            "Archive:  201906_Usage_Bicimad.zip\n",
            "  inflating: 201906_Usage_Bicimad.json  \n"
          ],
          "name": "stdout"
        }
      ]
    },
    {
      "cell_type": "markdown",
      "metadata": {
        "id": "7wH5DQtnk0o8",
        "colab_type": "text"
      },
      "source": [
        "## Dataset de estaciones\n",
        "Aquí nos descargamos los datasets de ocupacion por estación y los movemos dentro de la carpeta stations/ dentro de datasets/"
      ]
    },
    {
      "cell_type": "code",
      "metadata": {
        "id": "65PTGNwvk9gn",
        "colab_type": "code",
        "colab": {
          "base_uri": "https://localhost:8080/",
          "height": 276
        },
        "outputId": "f00f3e68-4fd2-4cc1-ff63-8f442ef53449"
      },
      "source": [
        "#Enero de 2019\n",
        "!wget -N \"https://opendata.emtmadrid.es/getattachment/17206b97-1de9-4c95-a20f-3331d699d2fa/Bicimad_Stations_201901.aspx\"\n",
        "!mv Bicimad_Stations_201901.aspx 201901_Bicimad_Stations.zip\n",
        "!unzip 201901_Bicimad_Stations.zip\n",
        "!mv Bicimad_Stations_201901.json dataset/stations\n",
        "!rm 201901_Bicimad_Stations.zip\n",
        "!mv dataset/stations/Bicimad_Stations_201901.json dataset/stations/201901_Stations_Bicimad.json"
      ],
      "execution_count": 14,
      "outputs": [
        {
          "output_type": "stream",
          "text": [
            "--2020-06-05 06:51:23--  https://opendata.emtmadrid.es/getattachment/17206b97-1de9-4c95-a20f-3331d699d2fa/Bicimad_Stations_201901.aspx\n",
            "Resolving opendata.emtmadrid.es (opendata.emtmadrid.es)... 185.79.130.130\n",
            "Connecting to opendata.emtmadrid.es (opendata.emtmadrid.es)|185.79.130.130|:443... connected.\n",
            "HTTP request sent, awaiting response... 200 OK\n",
            "Length: 5217347 (5.0M) [application/zip]\n",
            "Saving to: ‘Bicimad_Stations_201901.aspx’\n",
            "\n",
            "Bicimad_Stations_20 100%[===================>]   4.98M  1.53MB/s    in 3.3s    \n",
            "\n",
            "2020-06-05 06:51:27 (1.53 MB/s) - ‘Bicimad_Stations_201901.aspx’ saved [5217347/5217347]\n",
            "\n",
            "Archive:  201901_Bicimad_Stations.zip\n",
            "  inflating: Bicimad_Stations_201901.json  \n"
          ],
          "name": "stdout"
        }
      ]
    },
    {
      "cell_type": "code",
      "metadata": {
        "id": "jjeHYr_LJFSq",
        "colab_type": "code",
        "colab": {
          "base_uri": "https://localhost:8080/",
          "height": 404
        },
        "outputId": "84bf5662-976a-4e32-c9d6-b92b518502e0"
      },
      "source": [
        "#Febrero de 2019\n",
        "!wget -N \"https://opendata.emtmadrid.es/getattachment/97a8bc50-124f-487b-8c24-902241ae8e24/Bicimad_Stations_201902.aspx\"\n",
        "!mv Bicimad_Stations_201902.aspx 201902_Bicimad_Stations.zip\n",
        "!unzip 201902_Bicimad_Stations.zip\n",
        "!mv Bicimad_Stations_201902.json dataset/stations\n",
        "!rm 201902_Bicimad_Stations.zip\n",
        "!mv dataset/stations/Bicimad_Stations_201902.json dataset/stations/201902_Stations_Bicimad.json"
      ],
      "execution_count": 15,
      "outputs": [
        {
          "output_type": "stream",
          "text": [
            "--2020-06-05 06:51:35--  https://opendata.emtmadrid.es/getattachment/97a8bc50-124f-487b-8c24-902241ae8e24/Bicimad_Stations_201902.aspx\n",
            "Resolving opendata.emtmadrid.es (opendata.emtmadrid.es)... 185.79.130.130\n",
            "Connecting to opendata.emtmadrid.es (opendata.emtmadrid.es)|185.79.130.130|:443... connected.\n",
            "HTTP request sent, awaiting response... 200 OK\n",
            "Length: 643728 (629K) [application/octet-stream]\n",
            "Saving to: ‘Bicimad_Stations_201902.aspx’\n",
            "\n",
            "Bicimad_Stations_20 100%[===================>] 628.64K   762KB/s    in 0.8s    \n",
            "\n",
            "2020-06-05 06:51:36 (762 KB/s) - ‘Bicimad_Stations_201902.aspx’ saved [643728/643728]\n",
            "\n",
            "Archive:  201902_Bicimad_Stations.zip\n",
            "  End-of-central-directory signature not found.  Either this file is not\n",
            "  a zipfile, or it constitutes one disk of a multi-part archive.  In the\n",
            "  latter case the central directory and zipfile comment will be found on\n",
            "  the last disk(s) of this archive.\n",
            "unzip:  cannot find zipfile directory in one of 201902_Bicimad_Stations.zip or\n",
            "        201902_Bicimad_Stations.zip.zip, and cannot find 201902_Bicimad_Stations.zip.ZIP, period.\n",
            "mv: cannot stat 'Bicimad_Stations_201902.json': No such file or directory\n",
            "mv: cannot stat 'dataset/stations/Bicimad_Stations_201902.json': No such file or directory\n"
          ],
          "name": "stdout"
        }
      ]
    },
    {
      "cell_type": "code",
      "metadata": {
        "id": "eWgiSz7GJG0u",
        "colab_type": "code",
        "colab": {
          "base_uri": "https://localhost:8080/",
          "height": 404
        },
        "outputId": "ba87e85d-d43a-4459-8a9d-304a55455c4e"
      },
      "source": [
        "#Marzo de 2019\n",
        "!wget -N \"https://opendata.emtmadrid.es/getattachment/7be1ee81-a3d5-4b2e-8e7a-57725f191cb5/Bicimad_Stations_201903.aspx\"\n",
        "!mv Bicimad_Stations_201903.aspx 201903_Bicimad_Stations.zip\n",
        "!unzip 201903_Bicimad_Stations.zip\n",
        "!mv Bicimad_Stations_201903.json dataset/stations\n",
        "!rm 201903_Bicimad_Stations.zip\n",
        "!mv dataset/stations/Bicimad_Stations_201903.json dataset/stations/201903_Stations_Bicimad.json"
      ],
      "execution_count": 16,
      "outputs": [
        {
          "output_type": "stream",
          "text": [
            "--2020-06-05 06:51:44--  https://opendata.emtmadrid.es/getattachment/7be1ee81-a3d5-4b2e-8e7a-57725f191cb5/Bicimad_Stations_201903.aspx\n",
            "Resolving opendata.emtmadrid.es (opendata.emtmadrid.es)... 185.79.130.130\n",
            "Connecting to opendata.emtmadrid.es (opendata.emtmadrid.es)|185.79.130.130|:443... connected.\n",
            "HTTP request sent, awaiting response... 200 OK\n",
            "Length: 713535 (697K) [application/octet-stream]\n",
            "Saving to: ‘Bicimad_Stations_201903.aspx’\n",
            "\n",
            "Bicimad_Stations_20 100%[===================>] 696.81K   814KB/s    in 0.9s    \n",
            "\n",
            "2020-06-05 06:51:46 (814 KB/s) - ‘Bicimad_Stations_201903.aspx’ saved [713535/713535]\n",
            "\n",
            "Archive:  201903_Bicimad_Stations.zip\n",
            "  End-of-central-directory signature not found.  Either this file is not\n",
            "  a zipfile, or it constitutes one disk of a multi-part archive.  In the\n",
            "  latter case the central directory and zipfile comment will be found on\n",
            "  the last disk(s) of this archive.\n",
            "unzip:  cannot find zipfile directory in one of 201903_Bicimad_Stations.zip or\n",
            "        201903_Bicimad_Stations.zip.zip, and cannot find 201903_Bicimad_Stations.zip.ZIP, period.\n",
            "mv: cannot stat 'Bicimad_Stations_201903.json': No such file or directory\n",
            "mv: cannot stat 'dataset/stations/Bicimad_Stations_201903.json': No such file or directory\n"
          ],
          "name": "stdout"
        }
      ]
    },
    {
      "cell_type": "code",
      "metadata": {
        "id": "vKdfuhxMJHow",
        "colab_type": "code",
        "colab": {
          "base_uri": "https://localhost:8080/",
          "height": 404
        },
        "outputId": "28591275-3555-489f-ca2e-b356f22232d1"
      },
      "source": [
        "#Abril de 2019\n",
        "!wget -N \"https://opendata.emtmadrid.es/getattachment/a2db1369-6546-4dbe-acd4-c02abc97b58b/Bicimad_Stations_201904.aspx\"\n",
        "!mv Bicimad_Stations_201904.aspx 201904_Bicimad_Stations.zip\n",
        "!unzip 201904_Bicimad_Stations.zip\n",
        "!mv Bicimad_Stations_201904.json dataset/stations\n",
        "!rm 201904_Bicimad_Stations.zip\n",
        "!mv dataset/stations/Bicimad_Stations_201904.json dataset/stations/201904_Stations_Bicimad.json"
      ],
      "execution_count": 17,
      "outputs": [
        {
          "output_type": "stream",
          "text": [
            "--2020-06-05 06:51:54--  https://opendata.emtmadrid.es/getattachment/a2db1369-6546-4dbe-acd4-c02abc97b58b/Bicimad_Stations_201904.aspx\n",
            "Resolving opendata.emtmadrid.es (opendata.emtmadrid.es)... 185.79.130.130\n",
            "Connecting to opendata.emtmadrid.es (opendata.emtmadrid.es)|185.79.130.130|:443... connected.\n",
            "HTTP request sent, awaiting response... 200 OK\n",
            "Length: 661196 (646K) [application/octet-stream]\n",
            "Saving to: ‘Bicimad_Stations_201904.aspx’\n",
            "\n",
            "Bicimad_Stations_20 100%[===================>] 645.70K   761KB/s    in 0.8s    \n",
            "\n",
            "2020-06-05 06:51:55 (761 KB/s) - ‘Bicimad_Stations_201904.aspx’ saved [661196/661196]\n",
            "\n",
            "Archive:  201904_Bicimad_Stations.zip\n",
            "  End-of-central-directory signature not found.  Either this file is not\n",
            "  a zipfile, or it constitutes one disk of a multi-part archive.  In the\n",
            "  latter case the central directory and zipfile comment will be found on\n",
            "  the last disk(s) of this archive.\n",
            "unzip:  cannot find zipfile directory in one of 201904_Bicimad_Stations.zip or\n",
            "        201904_Bicimad_Stations.zip.zip, and cannot find 201904_Bicimad_Stations.zip.ZIP, period.\n",
            "mv: cannot stat 'Bicimad_Stations_201904.json': No such file or directory\n",
            "mv: cannot stat 'dataset/stations/Bicimad_Stations_201904.json': No such file or directory\n"
          ],
          "name": "stdout"
        }
      ]
    },
    {
      "cell_type": "code",
      "metadata": {
        "id": "LEGWdU4fJIPL",
        "colab_type": "code",
        "colab": {
          "base_uri": "https://localhost:8080/",
          "height": 404
        },
        "outputId": "e77833c1-0dea-403d-dbce-d1e02ba1dab2"
      },
      "source": [
        "#Mayo de 2019\n",
        "!wget -N \"https://opendata.emtmadrid.es/getattachment/0f82facc-f98d-4be4-a3ff-59930b810fdb/Bicimad_Stations_201905.aspx\"\n",
        "!mv Bicimad_Stations_201905.aspx 201905_Bicimad_Stations.zip\n",
        "!unzip 201905_Bicimad_Stations.zip\n",
        "!mv Bicimad_Stations_201905.json dataset/stations\n",
        "!rm 201905_Bicimad_Stations.zip\n",
        "!mv dataset/stations/Bicimad_Stations_201905.json dataset/stations/201905_Stations_Bicimad.json"
      ],
      "execution_count": 18,
      "outputs": [
        {
          "output_type": "stream",
          "text": [
            "--2020-06-05 06:52:03--  https://opendata.emtmadrid.es/getattachment/0f82facc-f98d-4be4-a3ff-59930b810fdb/Bicimad_Stations_201905.aspx\n",
            "Resolving opendata.emtmadrid.es (opendata.emtmadrid.es)... 185.79.130.130\n",
            "Connecting to opendata.emtmadrid.es (opendata.emtmadrid.es)|185.79.130.130|:443... connected.\n",
            "HTTP request sent, awaiting response... 200 OK\n",
            "Length: 724673 (708K) [application/octet-stream]\n",
            "Saving to: ‘Bicimad_Stations_201905.aspx’\n",
            "\n",
            "Bicimad_Stations_20 100%[===================>] 707.69K   866KB/s    in 0.8s    \n",
            "\n",
            "2020-06-05 06:52:04 (866 KB/s) - ‘Bicimad_Stations_201905.aspx’ saved [724673/724673]\n",
            "\n",
            "Archive:  201905_Bicimad_Stations.zip\n",
            "  End-of-central-directory signature not found.  Either this file is not\n",
            "  a zipfile, or it constitutes one disk of a multi-part archive.  In the\n",
            "  latter case the central directory and zipfile comment will be found on\n",
            "  the last disk(s) of this archive.\n",
            "unzip:  cannot find zipfile directory in one of 201905_Bicimad_Stations.zip or\n",
            "        201905_Bicimad_Stations.zip.zip, and cannot find 201905_Bicimad_Stations.zip.ZIP, period.\n",
            "mv: cannot stat 'Bicimad_Stations_201905.json': No such file or directory\n",
            "mv: cannot stat 'dataset/stations/Bicimad_Stations_201905.json': No such file or directory\n"
          ],
          "name": "stdout"
        }
      ]
    },
    {
      "cell_type": "code",
      "metadata": {
        "id": "hSX0vYdlJIwH",
        "colab_type": "code",
        "colab": {
          "base_uri": "https://localhost:8080/",
          "height": 404
        },
        "outputId": "be3bf0f6-b20b-4a57-dd8e-ee8bf97500c2"
      },
      "source": [
        "#Junio de 2019\n",
        "!wget -N \"https://opendata.emtmadrid.es/getattachment/8ed37748-d63f-44f0-a1bd-89e43e70f35a/Bicimad_Stations_201906.aspx\"\n",
        "!mv Bicimad_Stations_201906.aspx 201906_Bicimad_Stations.zip\n",
        "!unzip 201906_Bicimad_Stations.zip\n",
        "!mv Bicimad_Stations_201906.json dataset/stations\n",
        "!rm 201906_Bicimad_Stations.zip\n",
        "!mv dataset/stations/Bicimad_Stations_201906.json dataset/stations/201906_Stations_Bicimad.json"
      ],
      "execution_count": 19,
      "outputs": [
        {
          "output_type": "stream",
          "text": [
            "--2020-06-05 06:52:12--  https://opendata.emtmadrid.es/getattachment/8ed37748-d63f-44f0-a1bd-89e43e70f35a/Bicimad_Stations_201906.aspx\n",
            "Resolving opendata.emtmadrid.es (opendata.emtmadrid.es)... 185.79.130.130\n",
            "Connecting to opendata.emtmadrid.es (opendata.emtmadrid.es)|185.79.130.130|:443... connected.\n",
            "HTTP request sent, awaiting response... 200 OK\n",
            "Length: 713038 (696K) [application/octet-stream]\n",
            "Saving to: ‘Bicimad_Stations_201906.aspx’\n",
            "\n",
            "Bicimad_Stations_20 100%[===================>] 696.33K   697KB/s    in 1.0s    \n",
            "\n",
            "2020-06-05 06:52:14 (697 KB/s) - ‘Bicimad_Stations_201906.aspx’ saved [713038/713038]\n",
            "\n",
            "Archive:  201906_Bicimad_Stations.zip\n",
            "  End-of-central-directory signature not found.  Either this file is not\n",
            "  a zipfile, or it constitutes one disk of a multi-part archive.  In the\n",
            "  latter case the central directory and zipfile comment will be found on\n",
            "  the last disk(s) of this archive.\n",
            "unzip:  cannot find zipfile directory in one of 201906_Bicimad_Stations.zip or\n",
            "        201906_Bicimad_Stations.zip.zip, and cannot find 201906_Bicimad_Stations.zip.ZIP, period.\n",
            "mv: cannot stat 'Bicimad_Stations_201906.json': No such file or directory\n",
            "mv: cannot stat 'dataset/stations/Bicimad_Stations_201906.json': No such file or directory\n"
          ],
          "name": "stdout"
        }
      ]
    },
    {
      "cell_type": "markdown",
      "metadata": {
        "id": "6l1JrKnQlPbm",
        "colab_type": "text"
      },
      "source": [
        "# **Creamos los RDD**\n",
        "Una vez tenemos las bases de datos descargadas vamos a codificarlas de forma cómoda."
      ]
    },
    {
      "cell_type": "markdown",
      "metadata": {
        "id": "s2_J09HfldNw",
        "colab_type": "text"
      },
      "source": [
        "Para tener los datos almacenados de una forma cómoda primero creamos un diccionario cuya clave va a ser un string con el mes y el año del dataset y como valor va a tener el rdd asociado al uso por usuario de ese mes.\n",
        "\n",
        "La funcion `mapper_usages` nos servirá para crear la rdd mas legible. Nos quedaremos con los datos necesarios y cada linea la codificaremos como un diccionario."
      ]
    },
    {
      "cell_type": "code",
      "metadata": {
        "id": "qKXOxYtPlUPZ",
        "colab_type": "code",
        "colab": {}
      },
      "source": [
        "rdd_usages = {} "
      ],
      "execution_count": 0,
      "outputs": []
    },
    {
      "cell_type": "code",
      "metadata": {
        "id": "fQ1WZW9ylnFQ",
        "colab_type": "code",
        "colab": {}
      },
      "source": [
        "def mapper_usages(line):\n",
        "  data = json.loads(line)\n",
        "  user = data['user_type']\n",
        "  user_day = data['user_day_code']\n",
        "  start = data['idunplug_station']\n",
        "  end = data['idplug_station']\n",
        "  date = data['unplug_hourTime']['$date'][0:10]\n",
        "  hora = data['unplug_hourTime']['$date'][11:19]\n",
        "  time = data['travel_time']\n",
        "  age = data['ageRange']\n",
        "  try:\n",
        "    track = data['track']\n",
        "  except:\n",
        "    track = None\n",
        "  return {\"user_type\": user,\n",
        "          \"user_day_code\": user_day,\n",
        "          \"start\": start,\n",
        "          \"end\": end,\n",
        "          \"travel_time\": time,\n",
        "          \"date\": date,\n",
        "          \"hour\": hora,\n",
        "          \"age\": age,\n",
        "          \"track\": track}"
      ],
      "execution_count": 0,
      "outputs": []
    },
    {
      "cell_type": "code",
      "metadata": {
        "id": "d9pIrqUclrQl",
        "colab_type": "code",
        "colab": {
          "base_uri": "https://localhost:8080/",
          "height": 127
        },
        "outputId": "cb9cc14b-56c4-41e8-a3ad-8bfe5dfe4584"
      },
      "source": [
        "directory = 'dataset/usages'\n",
        "for filename in os.listdir(directory):\n",
        "    if filename.endswith(\".json\"):\n",
        "      #Nos quedamos con la fecha del dataset en formato YYYYMM\n",
        "      name = filename.split(\"_\")[0]\n",
        "      rdd_usages[name] = \\\n",
        "      sc.textFile(os.path.join(directory, filename)).map(mapper_usages)\n",
        "      #DEBUG starts\n",
        "      print(name)\n",
        "      #DEBUG ends\n",
        "    else:\n",
        "        continue"
      ],
      "execution_count": 22,
      "outputs": [
        {
          "output_type": "stream",
          "text": [
            "201905\n",
            "201903\n",
            "201906\n",
            "201901\n",
            "201902\n",
            "201904\n"
          ],
          "name": "stdout"
        }
      ]
    },
    {
      "cell_type": "code",
      "metadata": {
        "id": "1jHkWWJcBg9H",
        "colab_type": "code",
        "colab": {}
      },
      "source": [
        "#Juntamos todos los datos de los meses en uno solo dataset, y lo metemos también al diccionario.\n",
        "rdd_usages['201901-06'] = rdd_usages['201901'].union(rdd_usages['201902'].union(rdd_usages['201903'].union(rdd_usages['201904'].union(rdd_usages['201905'].union(rdd_usages['201906'])))))\n",
        "#rdd_usages['201901-06'] = rdd_usages['201901'].concat(rdd_usages['201902'])"
      ],
      "execution_count": 0,
      "outputs": []
    },
    {
      "cell_type": "code",
      "metadata": {
        "id": "IHVwJiV1EtYD",
        "colab_type": "code",
        "colab": {
          "base_uri": "https://localhost:8080/",
          "height": 513
        },
        "outputId": "d2940cff-e1a3-42f1-afd8-d4b0e619a3de"
      },
      "source": [
        "rdd_usages['201901-06'].take(1)"
      ],
      "execution_count": 24,
      "outputs": [
        {
          "output_type": "execute_result",
          "data": {
            "text/plain": [
              "[{'age': 0,\n",
              "  'date': '2019-01-01',\n",
              "  'end': 83,\n",
              "  'hour': '00:00:00',\n",
              "  'start': 82,\n",
              "  'track': {'features': [{'geometry': {'coordinates': [-3.6803143, 40.4048615],\n",
              "      'type': 'Point'},\n",
              "     'properties': {'secondsfromstart': 153,\n",
              "      'speed': 1.77,\n",
              "      'var': '28007,ES,Madrid,Madrid,AVDA MENENDEZ PELAYO 117,Madrid'},\n",
              "     'type': 'Feature'},\n",
              "    {'geometry': {'coordinates': [-3.67770349972222, 40.4029987997222],\n",
              "      'type': 'Point'},\n",
              "     'properties': {'secondsfromstart': 93,\n",
              "      'speed': 6.58,\n",
              "      'var': '28007,ES,Madrid,Madrid,AVDA CIUDAD DE BARCELONA 51,Madrid'},\n",
              "     'type': 'Feature'},\n",
              "    {'geometry': {'coordinates': [-3.67432209972222, 40.4009430997222],\n",
              "      'type': 'Point'},\n",
              "     'properties': {'secondsfromstart': 32,\n",
              "      'speed': 4.72,\n",
              "      'var': '28007,ES,Madrid,Madrid,AVDA CIUDAD DE BARCELONA 81,Madrid'},\n",
              "     'type': 'Feature'}],\n",
              "   'type': 'FeatureCollection'},\n",
              "  'travel_time': 162,\n",
              "  'user_day_code': 'b3b5b61509ab89afbf4d1e589d229bebe6637c2de819f5d612762c939b8d7f1f',\n",
              "  'user_type': 1}]"
            ]
          },
          "metadata": {
            "tags": []
          },
          "execution_count": 24
        }
      ]
    },
    {
      "cell_type": "markdown",
      "metadata": {
        "id": "muBX-1kTly_Y",
        "colab_type": "text"
      },
      "source": [
        "Por otro lado un diccionario cuya clave va a ser tambien un string con el mes y el año del dataset y como valor va a tener el rdd asociado a la ocupacion de las estaciones en ese mes.\n",
        "\n",
        "Aquí usaremos la funcion `mapper_stations` para acomodar los datos."
      ]
    },
    {
      "cell_type": "code",
      "metadata": {
        "id": "Do-vrp0Ul3uZ",
        "colab_type": "code",
        "colab": {}
      },
      "source": [
        "rdd_stations = {} "
      ],
      "execution_count": 0,
      "outputs": []
    },
    {
      "cell_type": "code",
      "metadata": {
        "id": "HhR9BSlSl5xZ",
        "colab_type": "code",
        "colab": {}
      },
      "source": [
        "def mapper_stations(line):\n",
        "  data = json.loads(line)\n",
        "  day = data['_id'][0:10]\n",
        "  hour = data['_id'][11:27]\n",
        "  station = data['stations']\n",
        "  return {\"day\": day, \"hour\": hour, \"station\": station}"
      ],
      "execution_count": 0,
      "outputs": []
    },
    {
      "cell_type": "code",
      "metadata": {
        "id": "pLEPxjcBl77p",
        "colab_type": "code",
        "outputId": "d424b8ac-0c28-4cd7-d2ff-049463b0634b",
        "colab": {
          "base_uri": "https://localhost:8080/",
          "height": 35
        }
      },
      "source": [
        "directory = 'dataset/stations'\n",
        "for filename in os.listdir(directory):\n",
        "    if filename.endswith(\".json\"):\n",
        "      #Nos quedamos con la fecha del dataset en formato YYYYMM\n",
        "      name = filename.split(\"_\")[0]\n",
        "      rdd_stations[name] = \\\n",
        "      sc.textFile(os.path.join(directory, filename)).map(mapper_stations)\n",
        "      #DEBUG starts\n",
        "      print(name)\n",
        "      #DEBUG ends\n",
        "    else:\n",
        "        continue"
      ],
      "execution_count": 27,
      "outputs": [
        {
          "output_type": "stream",
          "text": [
            "201901\n"
          ],
          "name": "stdout"
        }
      ]
    },
    {
      "cell_type": "markdown",
      "metadata": {
        "id": "-C02tMVwlhC8",
        "colab_type": "text"
      },
      "source": [
        "# **Análisis de 6 meses**"
      ]
    },
    {
      "cell_type": "code",
      "metadata": {
        "id": "FqR2bB3jE7mE",
        "colab_type": "code",
        "colab": {}
      },
      "source": [
        "#sc.stop() # Esto lo he puesto aquí antes, porque he ido a ejecutar y me decia que ya habia uno, blablabla, pero que en teoría se puede quitar, vaya."
      ],
      "execution_count": 0,
      "outputs": []
    },
    {
      "cell_type": "code",
      "metadata": {
        "id": "JifNMwNfrK2V",
        "colab_type": "code",
        "colab": {}
      },
      "source": [
        "\"\"\"\n",
        "#Para usar dataFrames que puede ser interesante (No he usado nada de esto abajo)\n",
        "from pyspark.sql import SparkSession\n",
        "spark = SparkSession.builder.getOrCreate()\n",
        "df = spark.read.json(\"/content/dataset/201901_Usage_Bicimad.json\")\n",
        "df.show()\n",
        "\"\"\""
      ],
      "execution_count": 0,
      "outputs": []
    },
    {
      "cell_type": "markdown",
      "metadata": {
        "id": "KosiIgA650BR",
        "colab_type": "text"
      },
      "source": [
        "### **Analisis y comparativas entre datos nocturnos y diurnos.**"
      ]
    },
    {
      "cell_type": "markdown",
      "metadata": {
        "id": "onqKZU_0lqvV",
        "colab_type": "text"
      },
      "source": [
        "Lo primero que haremos será ver la diferenecia en número de usuarios diferenciados por tipos según sean horas diurnas o nocturnas."
      ]
    },
    {
      "cell_type": "code",
      "metadata": {
        "id": "w1G9j_Utr5Ux",
        "colab_type": "code",
        "colab": {}
      },
      "source": [
        "#Esta creo que ya no nos hace falta. Porque los .json ya están mapeados en el diccionario.\n",
        "def mapper(data):\n",
        "  #data = json.loads(line)\n",
        "  user = data['user_type']\n",
        "  user_day = data['user_day_code']\n",
        "  start = data['start']\n",
        "  end = data['end']\n",
        "  date = data['date']\n",
        "  hora = data['hour']\n",
        "  time = data['travel_time']\n",
        "  age = data['age']\n",
        "  return user, user_day, start, end , time, date, hora, age"
      ],
      "execution_count": 0,
      "outputs": []
    },
    {
      "cell_type": "markdown",
      "metadata": {
        "id": "nhnFA97lmF-J",
        "colab_type": "text"
      },
      "source": [
        "Tomaremos como 'horas nocturnas' las horas comprendidas entre las 00:00 y las 05:59. Aunque como en los archivos de bicimad solo se distinguen las horas exactas, nuestras referencias nocturnas serán las 00:00, 01:00, 02:00, 03:00, 04:00 y 05:00."
      ]
    },
    {
      "cell_type": "code",
      "metadata": {
        "id": "rq8O6lpjmNht",
        "colab_type": "code",
        "colab": {}
      },
      "source": [
        "\"\"\"\n",
        "Con esta funcón, lo que hacemos es quedarnos solo con los datos del rdd, que sean nocturnos.\n",
        "\"\"\"\n",
        "def horasNocturnas(data):\n",
        "  #data = json.loads(line)\n",
        "  #hora_minima = 3600 #Esto seria pasar las 01:00:00 horas a segundos‬\n",
        "  hora_minima = 0 #Lo pongo en 0 ya que si no estamos perdiendo algun dato relevante para el ultimo problema\n",
        "  hora_maxima = 18000 #Esto seria pasar las 05:00:00 horas a segundos‬\n",
        "  hora = data['hour']\n",
        "  hora_actual = int(hora[0:2]) * 3600 + int(hora[3:5]) * 60 + int(hora[6:8])\n",
        "  #En teoria con multipicar solo las horas ya valdria porque no hay ni minutos ni segundos\n",
        "  return hora_actual <= hora_maxima"
      ],
      "execution_count": 0,
      "outputs": []
    },
    {
      "cell_type": "code",
      "metadata": {
        "id": "tf2dLvsamsx9",
        "colab_type": "code",
        "colab": {}
      },
      "source": [
        "\"\"\"\n",
        "Ahora tomamos el rdd que contiene los 6 meses de enero de 2019 a julio de 2019.\n",
        "\"\"\"\n",
        "rddNocturna = rdd_usages['201901-06'].filter(horasNocturnas)"
      ],
      "execution_count": 0,
      "outputs": []
    },
    {
      "cell_type": "code",
      "metadata": {
        "id": "hsZPcvOumRhZ",
        "colab_type": "code",
        "colab": {}
      },
      "source": [
        "rddNocturna.take(1)"
      ],
      "execution_count": 0,
      "outputs": []
    },
    {
      "cell_type": "code",
      "metadata": {
        "id": "LUr-oo96mVlY",
        "colab_type": "code",
        "outputId": "f6362149-2edc-4f4e-9861-e6807f88f984",
        "colab": {
          "base_uri": "https://localhost:8080/",
          "height": 35
        }
      },
      "source": [
        "\"\"\"\n",
        "Separamos ahora por tipo de usuario y vemos cuantos hay de cada tipo en total (para caso nocturno).\n",
        "\"\"\"\n",
        "night_data = rddNocturna.map(lambda x: x['user_type']).countByValue()\n",
        "night_data"
      ],
      "execution_count": 33,
      "outputs": [
        {
          "output_type": "execute_result",
          "data": {
            "text/plain": [
              "defaultdict(int, {0: 203, 1: 154927, 2: 1381, 3: 23428})"
            ]
          },
          "metadata": {
            "tags": []
          },
          "execution_count": 33
        }
      ]
    },
    {
      "cell_type": "markdown",
      "metadata": {
        "id": "B0rPKDGZnoNs",
        "colab_type": "text"
      },
      "source": [
        "Creamos una gráfica para ver mejor los datos."
      ]
    },
    {
      "cell_type": "code",
      "metadata": {
        "id": "elTfuGWJpLA2",
        "colab_type": "code",
        "outputId": "ab8bfbcb-469d-4a66-94c5-6d869c35968c",
        "colab": {
          "base_uri": "https://localhost:8080/",
          "height": 303
        }
      },
      "source": [
        "plt.title('Datos por tipo de usuario nocturnos en 6 meses')\n",
        "names = list(night_data.keys()) \n",
        "values = list(night_data.values())\n",
        "plt.bar(names, values, 1)\n",
        "plt.xlabel('Tipo de usuarios', fontsize=18)\n",
        "plt.ylabel('Cantidad de usuarios', fontsize=16)\n",
        "names.sort()\n",
        "plt.xticks(names, [\"0\",\"1\",\"2\",\"3\"])\n",
        "plt.show()"
      ],
      "execution_count": 55,
      "outputs": [
        {
          "output_type": "display_data",
          "data": {
            "image/png": "[encoded data removed]",
            "text/plain": [
              "<Figure size 432x288 with 1 Axes>"
            ]
          },
          "metadata": {
            "tags": [],
            "needs_background": "light"
          }
        }
      ]
    },
    {
      "cell_type": "markdown",
      "metadata": {
        "id": "ifDFmsLAoQ-m",
        "colab_type": "text"
      },
      "source": [
        "Podemos observar como la mayoría de usuarios que han usado bicimad por la noche son usuarios del tipo 1, que son los usuarios anuales mientras que hay muy pocos usuarios ocasionales. "
      ]
    },
    {
      "cell_type": "markdown",
      "metadata": {
        "id": "5LZYyHsqoBUo",
        "colab_type": "text"
      },
      "source": [
        "Para ver los datos diurnos, tomaremos los datos que están comprendidos entre las 06:00 y las 23:59."
      ]
    },
    {
      "cell_type": "code",
      "metadata": {
        "id": "CiDPrAkonlY9",
        "colab_type": "code",
        "colab": {}
      },
      "source": [
        "def horasDiurnas(data):\n",
        "  #data = json.loads(line)\n",
        "  hora_minima = 18000 #Esto seria pasar las 05:00:00 horas a segundos‬\n",
        "  hora = data['hour']\n",
        "  hora_actual = int(hora[0:2]) * 3600 + int(hora[3:5]) * 60 + int(hora[6:8])\n",
        "  #En teoria con multipicar solo las horas ya valdria porque no hay ni minutos ni segundos\n",
        "  return hora_minima < hora_actual"
      ],
      "execution_count": 0,
      "outputs": []
    },
    {
      "cell_type": "code",
      "metadata": {
        "id": "dzQs5KiHpi9C",
        "colab_type": "code",
        "colab": {}
      },
      "source": [
        "rddDiurna =  rdd_usages['201901-06'].filter(horasDiurnas)"
      ],
      "execution_count": 0,
      "outputs": []
    },
    {
      "cell_type": "code",
      "metadata": {
        "id": "SZPKRLMbpf3X",
        "colab_type": "code",
        "colab": {}
      },
      "source": [
        "rddDiurna.take(1)"
      ],
      "execution_count": 0,
      "outputs": []
    },
    {
      "cell_type": "code",
      "metadata": {
        "id": "lsgyxLYbpCJx",
        "colab_type": "code",
        "outputId": "363da406-729f-4fd9-9225-f16d921808b1",
        "colab": {
          "base_uri": "https://localhost:8080/",
          "height": 35
        }
      },
      "source": [
        "#Separamos ahora por tipo de usuario y vemos cuantos hay de cada tipo en total (para el caso diurno)\n",
        "day_data = rddDiurna.map(lambda x: x['user_type']).countByValue()\n",
        "day_data"
      ],
      "execution_count": 57,
      "outputs": [
        {
          "output_type": "execute_result",
          "data": {
            "text/plain": [
              "defaultdict(int, {0: 1646, 1: 1767639, 2: 25599, 3: 118387})"
            ]
          },
          "metadata": {
            "tags": []
          },
          "execution_count": 57
        }
      ]
    },
    {
      "cell_type": "code",
      "metadata": {
        "id": "R3-qnozJ7I6f",
        "colab_type": "code",
        "outputId": "b5c799f0-16d0-4c77-f8e3-21a9e541e54d",
        "colab": {
          "base_uri": "https://localhost:8080/",
          "height": 303
        }
      },
      "source": [
        "plt.title('Datos por tipo de usuario diurnos en 6 meses')\n",
        "names = list(day_data.keys()) \n",
        "values = list(day_data.values())\n",
        "plt.bar(names, values, 1)\n",
        "plt.xlabel('Tipo de usuarios', fontsize=18)\n",
        "plt.ylabel('Cantidad de usuarios', fontsize=16)\n",
        "names.sort()\n",
        "plt.xticks(names, [\"0\",\"1\",\"2\",\"3\"])\n",
        "plt.show()"
      ],
      "execution_count": 58,
      "outputs": [
        {
          "output_type": "display_data",
          "data": {
            "image/png": "[encoded data removed]",
            "text/plain": [
              "<Figure size 432x288 with 1 Axes>"
            ]
          },
          "metadata": {
            "tags": [],
            "needs_background": "light"
          }
        }
      ]
    },
    {
      "cell_type": "markdown",
      "metadata": {
        "id": "IJb9B0UlqVoB",
        "colab_type": "text"
      },
      "source": [
        "Los datos de los histogramas son muy parecidos por lo que para ver la diferencia entre los datos nocturnos y los diurnos, es necesario hacer una proporcion para ver como son estos datos."
      ]
    },
    {
      "cell_type": "code",
      "metadata": {
        "id": "HN6Jm3fiqrlO",
        "colab_type": "code",
        "outputId": "5e9fb428-3b2d-4971-f035-8efc91eeb152",
        "colab": {
          "base_uri": "https://localhost:8080/",
          "height": 35
        }
      },
      "source": [
        "#Proporcion datos nocturnos\n",
        "print(\"Proporción 'nocturna' entre tipo 2 sobre tipo 1: \", night_data[2]/night_data[1])"
      ],
      "execution_count": 59,
      "outputs": [
        {
          "output_type": "stream",
          "text": [
            "Proporción 'nocturna' entre tipo 2 sobre tipo 1:  0.008913875567202618\n"
          ],
          "name": "stdout"
        }
      ]
    },
    {
      "cell_type": "code",
      "metadata": {
        "id": "aQ6gNFlNqfOJ",
        "colab_type": "code",
        "outputId": "41b73d12-75f3-41ad-ceee-8e2dc7a20b14",
        "colab": {
          "base_uri": "https://localhost:8080/",
          "height": 35
        }
      },
      "source": [
        "#Proporcion datos diurnos\n",
        "print(\"Proporción 'diurna' entre tipo 2 sobre tipo 1: \", day_data[2]/day_data[1])"
      ],
      "execution_count": 61,
      "outputs": [
        {
          "output_type": "stream",
          "text": [
            "Proporción 'diurna' entre tipo 2 sobre tipo 1:  0.014482029418902842\n"
          ],
          "name": "stdout"
        }
      ]
    },
    {
      "cell_type": "markdown",
      "metadata": {
        "id": "iy479xLdqyf4",
        "colab_type": "text"
      },
      "source": [
        "Las proporcion diurna, es un poquito más grande, luego, podemos decir que durante el día hay más usuarios de tipo 2 que durante la noche."
      ]
    },
    {
      "cell_type": "markdown",
      "metadata": {
        "id": "5HHl--Qv6IJR",
        "colab_type": "text"
      },
      "source": [
        "### **Análisis de días laborables y fines de semana**"
      ]
    },
    {
      "cell_type": "markdown",
      "metadata": {
        "id": "lkdxOGgnhFxw",
        "colab_type": "text"
      },
      "source": [
        "Creemos que analizar los datos de los fines de semana puede darnos cierta información, dado que a priori, cabe pensar que habrá más movimientos, porque la gente puede estar fuera de casa hasta más tarde."
      ]
    },
    {
      "cell_type": "markdown",
      "metadata": {
        "id": "9zwZE54SsCua",
        "colab_type": "text"
      },
      "source": [
        "Lo primero que necesitamos es una función que nos diferencia entre días laborables y fines de semana. Tomaremos como fin de semana viernes, sábado y domingo."
      ]
    },
    {
      "cell_type": "code",
      "metadata": {
        "id": "iIGfp7HVsPSj",
        "colab_type": "code",
        "colab": {}
      },
      "source": [
        "\"\"\"\n",
        "Utilizaremos la librería 'datatime', para obtener de forma sencilla el día de la semana qu es una fecha dada.\n",
        "\"\"\"\n",
        "from datetime import datetime, date, time, timedelta\n",
        "import calendar\n",
        "def cambioFormato(fecha):\n",
        "  formato1 = \"%A\" #formatos: https://python-para-impacientes.blogspot.com/2014/02/operaciones-con-fechas-y-horas.html \n",
        "                            #https://blog.ipswitch.com/es/formato-de-fecha-en-python \n",
        "  dia=datetime.strptime(fecha, '%Y-%m-%d') #El segundo dato es el formato que tiene la fecha que le estoy dando\n",
        "  dia_1=dia.strftime(formato1)\n",
        "  return dia_1"
      ],
      "execution_count": 0,
      "outputs": []
    },
    {
      "cell_type": "code",
      "metadata": {
        "id": "e5mJjllOsTFp",
        "colab_type": "code",
        "colab": {}
      },
      "source": [
        "def weekend(line, madrugada): #madrugada es un booleano para decirle si queremos que nos coja los días pero por la noche, en plan, en las horas nocturnas, pues queremos que nos coja, los sabados, los domingos y los lunes.\n",
        "  #data=json.loads(line)\n",
        "  if madrugada:\n",
        "    days=['Saturday', 'Sunday', 'Monday']\n",
        "  else:\n",
        "    days=['Friday', 'Saturday', 'Sunday'] #por ejemplo si queremos los datos diurnos, pues lo pondríamos a 'not weekend(fecha, FALSE)', para que cogiese estos días\n",
        "  dia=cambioFormato(line['date'])\n",
        "  return dia in days"
      ],
      "execution_count": 0,
      "outputs": []
    },
    {
      "cell_type": "code",
      "metadata": {
        "id": "VoS5uMvzwk1-",
        "colab_type": "code",
        "colab": {}
      },
      "source": [
        "\"\"\"\n",
        "#Esta funcion, dado cualquier dia, te dice si fue fin de semana o no en el año 2019. Tendiendo en cuenta\n",
        "#que la 'noche' del viernes es sabado ya, por lo que queremos los dias sabado, domingo y lunes.\n",
        "def is_weekend(data):\n",
        "  months = [31, 28, 31, 30, 31, 30]#Los dias que tiene cada mes desde enero a junio\n",
        "  #El 1 de enero de 2019 cayo en Martes\n",
        "  fin_semana = [4,5,6] #Corrspondiente a los fines de semana.\n",
        "  fecha_actual = data['date']\n",
        "  mes_actual = int(fecha_actual[5:7])\n",
        "  dia_actual = int(fecha_actual[8:10])\n",
        "  dias_transcurridos = months[mes_actual-1]*(mes_actual-1) + dia_actual\n",
        "  return dias_transcurridos % 7 in fin_semana\n",
        "\"\"\""
      ],
      "execution_count": 0,
      "outputs": []
    },
    {
      "cell_type": "code",
      "metadata": {
        "id": "Qg6WMd5Thz2k",
        "colab_type": "code",
        "colab": {}
      },
      "source": [
        "\"\"\"\n",
        "def weekend(line):\n",
        "  #Como en realidad queremos las noches, 'la noche del vierne' sería el sabado ya, entonces, buscamos los\n",
        "  #días: 5,6,7,12,13,14,19,20,21,26,27,28.\n",
        "  data=json.loads(line)\n",
        "  days=['2019-01-05', '2019-01-06', '2019-01-07','2019-01-12','2019-01-13','2019-01-14', '2019-01-19', '2019-01-20','2019-01-21','2019-01-26', '2019-01-27', '2019-01-28']\n",
        "  dia_actual=data['unplug_hourTime']['$date'][0:10]\n",
        "  return dia_actual in days\n",
        "\"\"\""
      ],
      "execution_count": 0,
      "outputs": []
    },
    {
      "cell_type": "code",
      "metadata": {
        "id": "mhw8JA0wki-7",
        "colab_type": "code",
        "outputId": "4ea9915b-4b2e-48cb-8b5d-e74c7e0f2fda",
        "colab": {
          "base_uri": "https://localhost:8080/",
          "height": 35
        }
      },
      "source": [
        "rddWeekend=rddNocturna.filter(lambda x: weekend(x, True)) #madrugada a True porque estamos usando datos nocturnos.\n",
        "weekend_data=rddWeekend.map(lambda x: x['user_type']).countByValue()\n",
        "weekend_data"
      ],
      "execution_count": 72,
      "outputs": [
        {
          "output_type": "execute_result",
          "data": {
            "text/plain": [
              "defaultdict(int, {0: 162, 1: 88006, 2: 954, 3: 8922})"
            ]
          },
          "metadata": {
            "tags": []
          },
          "execution_count": 72
        }
      ]
    },
    {
      "cell_type": "code",
      "metadata": {
        "id": "MEFxYX_d3_SS",
        "colab_type": "code",
        "outputId": "2931207d-a816-4051-b4e1-16ae23db4c8e",
        "colab": {
          "base_uri": "https://localhost:8080/",
          "height": 134
        }
      },
      "source": [
        "fig=plt.figure()\n",
        "fig.subplots_adjust(bottom=0.025, left=0.05, top = 0.975, right=0.975)\n",
        "fig.add_subplot(1,4,1)\n",
        "plt.pie([night_data[0]-weekend_data[0], weekend_data[0]], labels=['L-J', 'V-D'],\n",
        "        autopct='%1.1f%%', shadow=True, startangle=90)\n",
        "plt.title('Indefinido')\n",
        "fig.add_subplot(1,4,2)\n",
        "plt.pie([night_data[1]-weekend_data[1], weekend_data[1]], labels=['L-J', 'V-D'],\n",
        "        autopct='%1.1f%%', shadow=True, startangle=90)\n",
        "plt.title('Anuales')\n",
        "fig.add_subplot(1,4,3)\n",
        "plt.pie([night_data[2]-weekend_data[2], weekend_data[2]], labels=['L-J', 'V-D'],\n",
        "        autopct='%1.1f%%', shadow=True, startangle=90)\n",
        "plt.title('Ocasionales')\n",
        "fig.add_subplot(1,4,4)\n",
        "plt.pie([night_data[3]-weekend_data[3], weekend_data[3]], labels=['L-J', 'V-D'],\n",
        "        autopct='%1.1f%%', shadow=True, startangle=90)\n",
        "plt.title('Trabajadores')\n",
        "#plt.legend(['entre semana', 'fin de semana'], loc=4)\n",
        "plt.show()"
      ],
      "execution_count": 73,
      "outputs": [
        {
          "output_type": "display_data",
          "data": {
            "image/png": "[encoded data removed]",
            "text/plain": [
              "<Figure size 432x288 with 4 Axes>"
            ]
          },
          "metadata": {
            "tags": []
          }
        }
      ]
    },
    {
      "cell_type": "markdown",
      "metadata": {
        "id": "ADqigq0d1LwJ",
        "colab_type": "text"
      },
      "source": [
        "Como vemos, más de la mitad de viajeros que tienen pase anual, utilizan BiciMad en el fin de semana. Podemos ver que incluso casi el 70% de los viajes ocasionales se producen durante el fin de semana. Sin embargo, de los trabajadores de la empresa, solo el 38% lo hace en fin de semana.\n"
      ]
    },
    {
      "cell_type": "markdown",
      "metadata": {
        "id": "FKK2lUlid6EW",
        "colab_type": "text"
      },
      "source": [
        "Veamos ahora, los movimientos por horas.\n"
      ]
    },
    {
      "cell_type": "code",
      "metadata": {
        "id": "H5mxPxhseSov",
        "colab_type": "code",
        "colab": {}
      },
      "source": [
        "def movimientosPorHoras(data):\n",
        "  #data= json.loads(line)\n",
        "  hora= data['hour']\n",
        "  user=data['user_type']\n",
        "  return hora, user"
      ],
      "execution_count": 0,
      "outputs": []
    },
    {
      "cell_type": "markdown",
      "metadata": {
        "id": "zbZb6x4nvsqx",
        "colab_type": "text"
      },
      "source": [
        "Tomamos los movimientos por horas nocturnos:"
      ]
    },
    {
      "cell_type": "code",
      "metadata": {
        "id": "uAXoFAalvqpF",
        "colab_type": "code",
        "colab": {
          "base_uri": "https://localhost:8080/",
          "height": 146
        },
        "outputId": "b8462e65-a23e-4177-fbf5-9f2e05d6a3c2"
      },
      "source": [
        "rddHoras=rddNocturna.map(movimientosPorHoras)\n",
        "time_data=rddHoras.countByKey()\n",
        "time_data"
      ],
      "execution_count": 76,
      "outputs": [
        {
          "output_type": "execute_result",
          "data": {
            "text/plain": [
              "defaultdict(int,\n",
              "            {'00:00:00': 59407,\n",
              "             '01:00:00': 43304,\n",
              "             '02:00:00': 31143,\n",
              "             '03:00:00': 19471,\n",
              "             '04:00:00': 14793,\n",
              "             '05:00:00': 11821})"
            ]
          },
          "metadata": {
            "tags": []
          },
          "execution_count": 76
        }
      ]
    },
    {
      "cell_type": "markdown",
      "metadata": {
        "id": "_1_nUtjovc6l",
        "colab_type": "text"
      },
      "source": [
        "Tomamos los movimientos por horas en fin de semana:"
      ]
    },
    {
      "cell_type": "code",
      "metadata": {
        "id": "jvF6nnsHBuhi",
        "colab_type": "code",
        "outputId": "cfd238ee-69d0-4a7d-f421-7fc1e7bb5f0a",
        "colab": {
          "base_uri": "https://localhost:8080/",
          "height": 146
        }
      },
      "source": [
        "rddHorasWeekend=rddWeekend.map(movimientosPorHoras)\n",
        "weekend_time_data = rddHorasWeekend.countByKey()\n",
        "weekend_time_data"
      ],
      "execution_count": 77,
      "outputs": [
        {
          "output_type": "execute_result",
          "data": {
            "text/plain": [
              "defaultdict(int,\n",
              "            {'00:00:00': 26845,\n",
              "             '01:00:00': 23227,\n",
              "             '02:00:00': 18568,\n",
              "             '03:00:00': 13009,\n",
              "             '04:00:00': 9402,\n",
              "             '05:00:00': 6993})"
            ]
          },
          "metadata": {
            "tags": []
          },
          "execution_count": 77
        }
      ]
    },
    {
      "cell_type": "markdown",
      "metadata": {
        "id": "RibzKx4FwXpi",
        "colab_type": "text"
      },
      "source": [
        "Creamos dos gráficos, uno con los días laborables y otro con los fines de semana."
      ]
    },
    {
      "cell_type": "code",
      "metadata": {
        "id": "WTFI7kqnxO43",
        "colab_type": "code",
        "colab": {
          "base_uri": "https://localhost:8080/",
          "height": 127
        },
        "outputId": "c60b6f9b-992c-41c7-a67f-3672447aebd5"
      },
      "source": [
        "\"\"\"\n",
        "Para obtener los días laborables, tenemos que 'restar' los datos de los fines de semana a los totales.\n",
        "\"\"\"\n",
        "laborable_time_data={}\n",
        "for i in range(0,6):\n",
        "  laborable_time_data['0'+str(i)+':00:00']=time_data['0'+str(i)+':00:00'] - weekend_time_data['0'+str(i)+':00:00']\n",
        "laborable_time_data"
      ],
      "execution_count": 86,
      "outputs": [
        {
          "output_type": "execute_result",
          "data": {
            "text/plain": [
              "{'00:00:00': 32562,\n",
              " '01:00:00': 20077,\n",
              " '02:00:00': 12575,\n",
              " '03:00:00': 6462,\n",
              " '04:00:00': 5391,\n",
              " '05:00:00': 4828}"
            ]
          },
          "metadata": {
            "tags": []
          },
          "execution_count": 86
        }
      ]
    },
    {
      "cell_type": "code",
      "metadata": {
        "id": "sz70AxnqAEkI",
        "colab_type": "code",
        "outputId": "aeb04838-84a2-46c7-e0cf-0386e5ba5b80",
        "colab": {
          "base_uri": "https://localhost:8080/",
          "height": 244
        }
      },
      "source": [
        "fig=plt.figure()\n",
        "fig.subplots_adjust(bottom=0.025, left=0.05, top = 0.975, right=0.975)\n",
        "fig.add_subplot(1,2,1)\n",
        "plt.pie(list(laborable_time_data.values()), labels=list(laborable_time_data.keys()),\n",
        "        autopct='%1.1f%%', shadow=True, startangle=90)\n",
        "plt.title('Viajes nocturnos\\n por horas L-J')\n",
        "fig.add_subplot(1,2,2)\n",
        "plt.pie(list(weekend_time_data.values()), labels=list(weekend_time_data.keys()),\n",
        "        autopct='%1.1f%%', shadow=True, startangle=90)\n",
        "plt.title('Viajes nocturnos\\n por horas V-D')\n",
        "plt.show()"
      ],
      "execution_count": 92,
      "outputs": [
        {
          "output_type": "display_data",
          "data": {
            "image/png": "[encoded data removed]",
            "text/plain": [
              "<Figure size 432x288 with 2 Axes>"
            ]
          },
          "metadata": {
            "tags": []
          }
        }
      ]
    },
    {
      "cell_type": "markdown",
      "metadata": {
        "id": "gMwk8ZIy0yyw",
        "colab_type": "text"
      },
      "source": [
        "NO SÉ POR QUÉ SE ME QUEDA ESO RARO EN LO DE LOS FINES DE SEMANA!!!!\n"
      ]
    },
    {
      "cell_type": "markdown",
      "metadata": {
        "id": "gFViHoToCZyZ",
        "colab_type": "text"
      },
      "source": [
        "Como vemos, los días laborables, casi el 70% de los viajes, se realizan antes de las 2 de la madrugaada y sin embargo, este porcentaje se reduce al 51% cuando hablamos de los fines de semana, donde incrementa el número de viajes a partir de las 2 de la madrugada."
      ]
    },
    {
      "cell_type": "markdown",
      "metadata": {
        "id": "BZFdCqgXGv5H",
        "colab_type": "text"
      },
      "source": [
        "Para entenderlo mejor, veamos también distinciones por horas y usuarios."
      ]
    },
    {
      "cell_type": "code",
      "metadata": {
        "id": "xg87ylMrh79t",
        "colab_type": "code",
        "outputId": "1e7f902d-cea4-49c2-fd2f-46367f415f9c",
        "colab": {
          "base_uri": "https://localhost:8080/",
          "height": 1000
        }
      },
      "source": [
        "horas = ['00:00:00','01:00:00', '02:00:00', '03:00:00', '04:00:00', '05:00:00']\n",
        "#fig=plt.figure()\n",
        "#fig.subplots_adjust(bottom=0.025, left=0.05, top = 0.975, right=0.975) \n",
        "#fig.add_subplot(3,5,1)\n",
        "def grafica(dic, value):\n",
        "  fig=plt.figure()\n",
        "  fig.subplots_adjust(bottom=0.025, left=0.05, top = 0.975, right=0.975) \n",
        "  #linea = value/2 +1\n",
        "  #pos = (value % 2) + 1\n",
        "  #fig.add_subplot(linea,5,pos)\n",
        "  plt.pie(list(dic.values()), labels=list(dic.keys()),\n",
        "        autopct='%1.1f%%', shadow=True, startangle=90)\n",
        "  plt.title('Viajes segun tipos a las '+horas[value]+' horas')\n",
        "  plt.show()\n",
        "for i in range(5):\n",
        "  grafica(rddHoras.filter(lambda x: x[0] == horas[i]).map(lambda x: (x[1], 1)).countByKey(), i)\n",
        "#Tarda un rato y he intentado ponerlo como lo ponia elisa pero quedaba muy pequeño y no se absolutamente nada. Asi se ve mas pero a lo mejor\n",
        "#ocupa demasiado."
      ],
      "execution_count": 54,
      "outputs": [
        {
          "output_type": "display_data",
          "data": {
            "image/png": "[encoded data removed]",
            "text/plain": [
              "<Figure size 432x288 with 1 Axes>"
            ]
          },
          "metadata": {
            "tags": []
          }
        },
        {
          "output_type": "display_data",
          "data": {
            "image/png": "[encoded data removed]",
            "text/plain": [
              "<Figure size 432x288 with 1 Axes>"
            ]
          },
          "metadata": {
            "tags": []
          }
        },
        {
          "output_type": "display_data",
          "data": {
            "image/png": "[encoded data removed]",
            "text/plain": [
              "<Figure size 432x288 with 1 Axes>"
            ]
          },
          "metadata": {
            "tags": []
          }
        },
        {
          "output_type": "display_data",
          "data": {
            "image/png": "[encoded data removed]",
            "text/plain": [
              "<Figure size 432x288 with 1 Axes>"
            ]
          },
          "metadata": {
            "tags": []
          }
        },
        {
          "output_type": "display_data",
          "data": {
            "image/png": "[encoded data removed]",
            "text/plain": [
              "<Figure size 432x288 with 1 Axes>"
            ]
          },
          "metadata": {
            "tags": []
          }
        }
      ]
    },
    {
      "cell_type": "markdown",
      "metadata": {
        "id": "UovvYw8m20tD",
        "colab_type": "text"
      },
      "source": [
        "Como ya habíamos visto, la mayoría de los trayectos que se realizan son por los usuarios de tipo 1, los anuales, pero también hay que tener en cuenta que entre las 1 horas, 2 horas y 4 horas, hay más de un 15% de los viajes que son realizados por los trabajadores de la empresa. Mientras que a las 12 y a las 3 de la madrugada, no superan el 10%. Por esto, será interesante realizar un estudio de los trabajadores más adelante.\n",
        " "
      ]
    },
    {
      "cell_type": "markdown",
      "metadata": {
        "id": "e9ygIuq90ZUV",
        "colab_type": "text"
      },
      "source": [
        "### **Análisis por rango de edades**"
      ]
    },
    {
      "cell_type": "markdown",
      "metadata": {
        "id": "YSALHRjwFgfn",
        "colab_type": "text"
      },
      "source": [
        "Otro punto interesante, seria estudiar la diferencia en los usos segun los rangos de edad"
      ]
    },
    {
      "cell_type": "code",
      "metadata": {
        "id": "VZ4Tc3vhFvK9",
        "colab_type": "code",
        "outputId": "6dd3a6db-ab2f-4e47-f48e-77eea75b4609",
        "colab": {
          "base_uri": "https://localhost:8080/",
          "height": 299
        }
      },
      "source": [
        "#Empezemos estudiando los usos nocturnos en fines de semana.\n",
        "\"\"\"\n",
        "Tenemos en cuenta que:\n",
        "0: no se identifica\n",
        "1: entre 0 y 16 años\n",
        "2: entre 17 y 18 años\n",
        "3: entre 19 y 26 años\n",
        "4: entre 27 y 40 años\n",
        "5: entre 41 y 65 años\n",
        "6: 66 años o más\n",
        "\"\"\"\n",
        "rddW_ages = rddWeekend.map(lambda x: (x['age'], 1)).countByKey()\n",
        "print(sorted(rddW_ages.items(), key=lambda x:x[0]))\n",
        "plt.bar(list(rddW_ages.keys()), list(rddW_ages.values()))\n",
        "plt.title('Viajes segun los rangos de edad')\n",
        "plt.show()"
      ],
      "execution_count": 97,
      "outputs": [
        {
          "output_type": "stream",
          "text": [
            "[(0, 51330), (1, 1320), (2, 695), (3, 7748), (4, 24374), (5, 12343), (6, 234)]\n"
          ],
          "name": "stdout"
        },
        {
          "output_type": "display_data",
          "data": {
            "image/png": "[encoded data removed]",
            "text/plain": [
              "<Figure size 432x288 with 1 Axes>"
            ]
          },
          "metadata": {
            "tags": [],
            "needs_background": "light"
          }
        }
      ]
    },
    {
      "cell_type": "markdown",
      "metadata": {
        "id": "uRQ8LMm1JYfc",
        "colab_type": "text"
      },
      "source": [
        "A parte de los usuarios no identificados, los que más hacen un uso nocturno los fines de semana son los que están en la franja de edad de entre 27 y 40 años, lo que nos puede indicar que parte de la gente que utiliza bicimad es gente joven. Veamos ahora si este comportamiento es similiar a los dias entre semana."
      ]
    },
    {
      "cell_type": "code",
      "metadata": {
        "id": "7aH-cp7u4qCP",
        "colab_type": "code",
        "colab": {}
      },
      "source": [
        "\"\"\"\n",
        "#Esta funcion, dado cualquier dia, te dice si fue fin de semana o no en el año 2019. Tendiendo en cuenta\n",
        "#que la 'noche' del viernes es sabado ya, por lo que queremos los dias sabado, domingo y lunes.\n",
        "#Como ahora nos interesan los dias entre diario, pues cogemos aquellos que no sean fin de semana.\n",
        "def is_workDays(data):\n",
        "  months = [31, 28, 31, 30, 31, 30]#Los dias que tiene cada mes desde enero a junio\n",
        "  #El 1 de enero de 2019 cayo en Martes\n",
        "  fin_semana = [4,5,6] #Corrspondiente a los fines de semana.\n",
        "  fecha_actual = data['date']\n",
        "  mes_actual = int(fecha_actual[5:7])\n",
        "  dia_actual = int(fecha_actual[8:10])\n",
        "  dias_transcurridos = months[mes_actual-1]*(mes_actual-1) + dia_actual\n",
        "  return dias_transcurridos % 7 not in fin_semana\n",
        "\"\"\""
      ],
      "execution_count": 0,
      "outputs": []
    },
    {
      "cell_type": "code",
      "metadata": {
        "id": "Nh9DNoSjKRUN",
        "colab_type": "code",
        "colab": {}
      },
      "source": [
        "\"\"\"\n",
        "def workDays(line):\n",
        "  #Como en realidad queremos las noches, 'la noche del vierne' sería el sabado ya, entonces, buscamos los\n",
        "  #días: 5,6,7,12,13,14,19,20,21,26,27,28.\n",
        "  #Como estos son los dias de fin de semana, necexitamos coger los dias que no estan en esta lista simplemente\n",
        "  data=json.loads(line)\n",
        "  days=['2019-01-05', '2019-01-06', '2019-01-07','2019-01-12','2019-01-13','2019-01-14', '2019-01-19', '2019-01-20','2019-01-21','2019-01-26', '2019-01-27', '2019-01-28']\n",
        "  dia_actual=data['unplug_hourTime']['$date'][0:10]\n",
        "  return dia_actual not in days\n",
        "\"\"\""
      ],
      "execution_count": 0,
      "outputs": []
    },
    {
      "cell_type": "code",
      "metadata": {
        "id": "iKWxf5K0KRSP",
        "colab_type": "code",
        "outputId": "1495d161-3638-4542-ee14-6c9b5fe19def",
        "colab": {
          "base_uri": "https://localhost:8080/",
          "height": 299
        }
      },
      "source": [
        "#Partimos de la RDD que tenia los datos filtrados por las horas nocturnas,\n",
        "#y con poner en filter, que no sea fin de semana, tendremos los días laborables.\n",
        "rddWD_ages = rddNocturna.filter(lambda x: not weekend(x, True)).map(lambda x: (x['age'])).countByValue()\n",
        "print(sorted(rddWD_ages.items(), key=lambda x:x[0]))\n",
        "plt.bar(list(rddWD_ages.keys()), list(rddWD_ages.values()))\n",
        "plt.title('Viajes segun los rangos de edad en días laborables')\n",
        "plt.show()"
      ],
      "execution_count": 96,
      "outputs": [
        {
          "output_type": "stream",
          "text": [
            "[(0, 42262), (1, 1837), (2, 489), (3, 5698), (4, 19877), (5, 11616), (6, 116)]\n"
          ],
          "name": "stdout"
        },
        {
          "output_type": "display_data",
          "data": {
            "image/png": "[encoded data removed]",
            "text/plain": [
              "<Figure size 432x288 with 1 Axes>"
            ]
          },
          "metadata": {
            "tags": [],
            "needs_background": "light"
          }
        }
      ]
    },
    {
      "cell_type": "markdown",
      "metadata": {
        "id": "0DE4bLS-GLXe",
        "colab_type": "text"
      },
      "source": [
        "Aunque ambas gráficas son muy parecidas, mirando el numero exacto de datos, se observa un claro aumento de los usurios de tipo 3 y 4 en los fines de semana, que son aquellos cuyas edades están entre 19 y 26 años y entre 27 y 40 años respectivamente. Podemos suponer por lo tanto, que los usuarios jóvenes son los que más demanda tienen en horas nocturnas, y por ser más concretos, las personas mayores de edad. Además, hay que tener en cuenta que los datos recogidos los fines de semana se establecen en menos días que los datos de diario por lo que el porcentaje de crecimiento es aun mayor. \n",
        "\n",
        "Esto tiene bastante que ver con las gráficas vistas anteriormente en las que se observa claramente como hay un mayor uso los fines de semana.\n"
      ]
    },
    {
      "cell_type": "markdown",
      "metadata": {
        "id": "1Q81IyBrJfBr",
        "colab_type": "text"
      },
      "source": [
        "En estos datos analizados, estamos teniendo en cuenta aquellos que se obtienen por los trabajadores de la empresa y como no nos interesan, veamos si hay algún cambio mayor suprimiendo a los trabajadores."
      ]
    },
    {
      "cell_type": "code",
      "metadata": {
        "id": "EIvxTnCIJ8QW",
        "colab_type": "code",
        "outputId": "61160c72-0988-49c6-b73d-fcc8a6b7d0cf",
        "colab": {
          "base_uri": "https://localhost:8080/",
          "height": 1000
        }
      },
      "source": [
        "#eliminamos a los trabajadores de la empresa\n",
        "rddWD_ages2 = rddNocturna.filter(lambda x: not weekend(x, True) and not(x[0]==3)).map(lambda x: (x['age'])).map(lambda x: (x[7], 1)).countByKey()\n",
        "rddW_ages2 = rddWeekend.map(lambda x: (x['age'], 1)).filter(lambda x: not(x[0] == 3)).map(lambda x: (x[7], 1)).countByKey()\n",
        "print(\"Días laborables:\", sorted(rddWD_ages2.items(), key=lambda x:x[0]))\n",
        "print(\"Fines de semana:\", sorted(rddW_ages2.items(), key=lambda x:x[0]))"
      ],
      "execution_count": 103,
      "outputs": [
        {
          "output_type": "error",
          "ename": "Py4JJavaError",
          "evalue": "ignored",
          "traceback": [
            "\u001b[0;31m---------------------------------------------------------------------------\u001b[0m",
            "\u001b[0;31mPy4JJavaError\u001b[0m                             Traceback (most recent call last)",
            "\u001b[0;32m<ipython-input-103-de190b2df329>\u001b[0m in \u001b[0;36m<module>\u001b[0;34m()\u001b[0m\n\u001b[1;32m      1\u001b[0m \u001b[0;31m#eliminamos a los trabajadores de la empresa\u001b[0m\u001b[0;34m\u001b[0m\u001b[0;34m\u001b[0m\u001b[0;34m\u001b[0m\u001b[0m\n\u001b[0;32m----> 2\u001b[0;31m \u001b[0mrddWD_ages2\u001b[0m \u001b[0;34m=\u001b[0m \u001b[0mrddNocturna\u001b[0m\u001b[0;34m.\u001b[0m\u001b[0mfilter\u001b[0m\u001b[0;34m(\u001b[0m\u001b[0;32mlambda\u001b[0m \u001b[0mx\u001b[0m\u001b[0;34m:\u001b[0m \u001b[0;32mnot\u001b[0m \u001b[0mweekend\u001b[0m\u001b[0;34m(\u001b[0m\u001b[0mx\u001b[0m\u001b[0;34m,\u001b[0m \u001b[0;32mTrue\u001b[0m\u001b[0;34m)\u001b[0m \u001b[0;32mand\u001b[0m \u001b[0;32mnot\u001b[0m\u001b[0;34m(\u001b[0m\u001b[0mx\u001b[0m\u001b[0;34m[\u001b[0m\u001b[0;36m0\u001b[0m\u001b[0;34m]\u001b[0m\u001b[0;34m==\u001b[0m\u001b[0;36m3\u001b[0m\u001b[0;34m)\u001b[0m\u001b[0;34m)\u001b[0m\u001b[0;34m.\u001b[0m\u001b[0mmap\u001b[0m\u001b[0;34m(\u001b[0m\u001b[0;32mlambda\u001b[0m \u001b[0mx\u001b[0m\u001b[0;34m:\u001b[0m \u001b[0;34m(\u001b[0m\u001b[0mx\u001b[0m\u001b[0;34m[\u001b[0m\u001b[0;34m'age'\u001b[0m\u001b[0;34m]\u001b[0m\u001b[0;34m)\u001b[0m\u001b[0;34m)\u001b[0m\u001b[0;34m.\u001b[0m\u001b[0mmap\u001b[0m\u001b[0;34m(\u001b[0m\u001b[0;32mlambda\u001b[0m \u001b[0mx\u001b[0m\u001b[0;34m:\u001b[0m \u001b[0;34m(\u001b[0m\u001b[0mx\u001b[0m\u001b[0;34m[\u001b[0m\u001b[0;36m7\u001b[0m\u001b[0;34m]\u001b[0m\u001b[0;34m,\u001b[0m \u001b[0;36m1\u001b[0m\u001b[0;34m)\u001b[0m\u001b[0;34m)\u001b[0m\u001b[0;34m.\u001b[0m\u001b[0mcountByKey\u001b[0m\u001b[0;34m(\u001b[0m\u001b[0;34m)\u001b[0m\u001b[0;34m\u001b[0m\u001b[0;34m\u001b[0m\u001b[0m\n\u001b[0m\u001b[1;32m      3\u001b[0m \u001b[0mrddW_ages2\u001b[0m \u001b[0;34m=\u001b[0m \u001b[0mrddWeekend\u001b[0m\u001b[0;34m.\u001b[0m\u001b[0mmap\u001b[0m\u001b[0;34m(\u001b[0m\u001b[0;32mlambda\u001b[0m \u001b[0mx\u001b[0m\u001b[0;34m:\u001b[0m \u001b[0;34m(\u001b[0m\u001b[0mx\u001b[0m\u001b[0;34m[\u001b[0m\u001b[0;34m'age'\u001b[0m\u001b[0;34m]\u001b[0m\u001b[0;34m,\u001b[0m \u001b[0;36m1\u001b[0m\u001b[0;34m)\u001b[0m\u001b[0;34m)\u001b[0m\u001b[0;34m.\u001b[0m\u001b[0mfilter\u001b[0m\u001b[0;34m(\u001b[0m\u001b[0;32mlambda\u001b[0m \u001b[0mx\u001b[0m\u001b[0;34m:\u001b[0m \u001b[0;32mnot\u001b[0m\u001b[0;34m(\u001b[0m\u001b[0mx\u001b[0m\u001b[0;34m[\u001b[0m\u001b[0;36m0\u001b[0m\u001b[0;34m]\u001b[0m \u001b[0;34m==\u001b[0m \u001b[0;36m3\u001b[0m\u001b[0;34m)\u001b[0m\u001b[0;34m)\u001b[0m\u001b[0;34m.\u001b[0m\u001b[0mmap\u001b[0m\u001b[0;34m(\u001b[0m\u001b[0;32mlambda\u001b[0m \u001b[0mx\u001b[0m\u001b[0;34m:\u001b[0m \u001b[0;34m(\u001b[0m\u001b[0mx\u001b[0m\u001b[0;34m[\u001b[0m\u001b[0;36m7\u001b[0m\u001b[0;34m]\u001b[0m\u001b[0;34m,\u001b[0m \u001b[0;36m1\u001b[0m\u001b[0;34m)\u001b[0m\u001b[0;34m)\u001b[0m\u001b[0;34m.\u001b[0m\u001b[0mcountByKey\u001b[0m\u001b[0;34m(\u001b[0m\u001b[0;34m)\u001b[0m\u001b[0;34m\u001b[0m\u001b[0;34m\u001b[0m\u001b[0m\n\u001b[1;32m      4\u001b[0m \u001b[0mprint\u001b[0m\u001b[0;34m(\u001b[0m\u001b[0;34m\"Días laborables:\"\u001b[0m\u001b[0;34m,\u001b[0m \u001b[0msorted\u001b[0m\u001b[0;34m(\u001b[0m\u001b[0mrddWD_ages2\u001b[0m\u001b[0;34m.\u001b[0m\u001b[0mitems\u001b[0m\u001b[0;34m(\u001b[0m\u001b[0;34m)\u001b[0m\u001b[0;34m,\u001b[0m \u001b[0mkey\u001b[0m\u001b[0;34m=\u001b[0m\u001b[0;32mlambda\u001b[0m \u001b[0mx\u001b[0m\u001b[0;34m:\u001b[0m\u001b[0mx\u001b[0m\u001b[0;34m[\u001b[0m\u001b[0;36m0\u001b[0m\u001b[0;34m]\u001b[0m\u001b[0;34m)\u001b[0m\u001b[0;34m)\u001b[0m\u001b[0;34m\u001b[0m\u001b[0;34m\u001b[0m\u001b[0m\n\u001b[1;32m      5\u001b[0m \u001b[0mprint\u001b[0m\u001b[0;34m(\u001b[0m\u001b[0;34m\"Fines de semana:\"\u001b[0m\u001b[0;34m,\u001b[0m \u001b[0msorted\u001b[0m\u001b[0;34m(\u001b[0m\u001b[0mrddW_ages2\u001b[0m\u001b[0;34m.\u001b[0m\u001b[0mitems\u001b[0m\u001b[0;34m(\u001b[0m\u001b[0;34m)\u001b[0m\u001b[0;34m,\u001b[0m \u001b[0mkey\u001b[0m\u001b[0;34m=\u001b[0m\u001b[0;32mlambda\u001b[0m \u001b[0mx\u001b[0m\u001b[0;34m:\u001b[0m\u001b[0mx\u001b[0m\u001b[0;34m[\u001b[0m\u001b[0;36m0\u001b[0m\u001b[0;34m]\u001b[0m\u001b[0;34m)\u001b[0m\u001b[0;34m)\u001b[0m\u001b[0;34m\u001b[0m\u001b[0;34m\u001b[0m\u001b[0m\n",
            "\u001b[0;32m/usr/local/lib/python3.6/dist-packages/pyspark/rdd.py\u001b[0m in \u001b[0;36mcountByKey\u001b[0;34m(self)\u001b[0m\n\u001b[1;32m   1661\u001b[0m         \u001b[0;34m[\u001b[0m\u001b[0;34m(\u001b[0m\u001b[0;34m'a'\u001b[0m\u001b[0;34m,\u001b[0m \u001b[0;36m2\u001b[0m\u001b[0;34m)\u001b[0m\u001b[0;34m,\u001b[0m \u001b[0;34m(\u001b[0m\u001b[0;34m'b'\u001b[0m\u001b[0;34m,\u001b[0m \u001b[0;36m1\u001b[0m\u001b[0;34m)\u001b[0m\u001b[0;34m]\u001b[0m\u001b[0;34m\u001b[0m\u001b[0;34m\u001b[0m\u001b[0m\n\u001b[1;32m   1662\u001b[0m         \"\"\"\n\u001b[0;32m-> 1663\u001b[0;31m         \u001b[0;32mreturn\u001b[0m \u001b[0mself\u001b[0m\u001b[0;34m.\u001b[0m\u001b[0mmap\u001b[0m\u001b[0;34m(\u001b[0m\u001b[0;32mlambda\u001b[0m \u001b[0mx\u001b[0m\u001b[0;34m:\u001b[0m \u001b[0mx\u001b[0m\u001b[0;34m[\u001b[0m\u001b[0;36m0\u001b[0m\u001b[0;34m]\u001b[0m\u001b[0;34m)\u001b[0m\u001b[0;34m.\u001b[0m\u001b[0mcountByValue\u001b[0m\u001b[0;34m(\u001b[0m\u001b[0;34m)\u001b[0m\u001b[0;34m\u001b[0m\u001b[0;34m\u001b[0m\u001b[0m\n\u001b[0m\u001b[1;32m   1664\u001b[0m \u001b[0;34m\u001b[0m\u001b[0m\n\u001b[1;32m   1665\u001b[0m     \u001b[0;32mdef\u001b[0m \u001b[0mjoin\u001b[0m\u001b[0;34m(\u001b[0m\u001b[0mself\u001b[0m\u001b[0;34m,\u001b[0m \u001b[0mother\u001b[0m\u001b[0;34m,\u001b[0m \u001b[0mnumPartitions\u001b[0m\u001b[0;34m=\u001b[0m\u001b[0;32mNone\u001b[0m\u001b[0;34m)\u001b[0m\u001b[0;34m:\u001b[0m\u001b[0;34m\u001b[0m\u001b[0;34m\u001b[0m\u001b[0m\n",
            "\u001b[0;32m/usr/local/lib/python3.6/dist-packages/pyspark/rdd.py\u001b[0m in \u001b[0;36mcountByValue\u001b[0;34m(self)\u001b[0m\n\u001b[1;32m   1259\u001b[0m                 \u001b[0mm1\u001b[0m\u001b[0;34m[\u001b[0m\u001b[0mk\u001b[0m\u001b[0;34m]\u001b[0m \u001b[0;34m+=\u001b[0m \u001b[0mv\u001b[0m\u001b[0;34m\u001b[0m\u001b[0;34m\u001b[0m\u001b[0m\n\u001b[1;32m   1260\u001b[0m             \u001b[0;32mreturn\u001b[0m \u001b[0mm1\u001b[0m\u001b[0;34m\u001b[0m\u001b[0;34m\u001b[0m\u001b[0m\n\u001b[0;32m-> 1261\u001b[0;31m         \u001b[0;32mreturn\u001b[0m \u001b[0mself\u001b[0m\u001b[0;34m.\u001b[0m\u001b[0mmapPartitions\u001b[0m\u001b[0;34m(\u001b[0m\u001b[0mcountPartition\u001b[0m\u001b[0;34m)\u001b[0m\u001b[0;34m.\u001b[0m\u001b[0mreduce\u001b[0m\u001b[0;34m(\u001b[0m\u001b[0mmergeMaps\u001b[0m\u001b[0;34m)\u001b[0m\u001b[0;34m\u001b[0m\u001b[0;34m\u001b[0m\u001b[0m\n\u001b[0m\u001b[1;32m   1262\u001b[0m \u001b[0;34m\u001b[0m\u001b[0m\n\u001b[1;32m   1263\u001b[0m     \u001b[0;32mdef\u001b[0m \u001b[0mtop\u001b[0m\u001b[0;34m(\u001b[0m\u001b[0mself\u001b[0m\u001b[0;34m,\u001b[0m \u001b[0mnum\u001b[0m\u001b[0;34m,\u001b[0m \u001b[0mkey\u001b[0m\u001b[0;34m=\u001b[0m\u001b[0;32mNone\u001b[0m\u001b[0;34m)\u001b[0m\u001b[0;34m:\u001b[0m\u001b[0;34m\u001b[0m\u001b[0;34m\u001b[0m\u001b[0m\n",
            "\u001b[0;32m/usr/local/lib/python3.6/dist-packages/pyspark/rdd.py\u001b[0m in \u001b[0;36mreduce\u001b[0;34m(self, f)\u001b[0m\n\u001b[1;32m    842\u001b[0m             \u001b[0;32myield\u001b[0m \u001b[0mreduce\u001b[0m\u001b[0;34m(\u001b[0m\u001b[0mf\u001b[0m\u001b[0;34m,\u001b[0m \u001b[0miterator\u001b[0m\u001b[0;34m,\u001b[0m \u001b[0minitial\u001b[0m\u001b[0;34m)\u001b[0m\u001b[0;34m\u001b[0m\u001b[0;34m\u001b[0m\u001b[0m\n\u001b[1;32m    843\u001b[0m \u001b[0;34m\u001b[0m\u001b[0m\n\u001b[0;32m--> 844\u001b[0;31m         \u001b[0mvals\u001b[0m \u001b[0;34m=\u001b[0m \u001b[0mself\u001b[0m\u001b[0;34m.\u001b[0m\u001b[0mmapPartitions\u001b[0m\u001b[0;34m(\u001b[0m\u001b[0mfunc\u001b[0m\u001b[0;34m)\u001b[0m\u001b[0;34m.\u001b[0m\u001b[0mcollect\u001b[0m\u001b[0;34m(\u001b[0m\u001b[0;34m)\u001b[0m\u001b[0;34m\u001b[0m\u001b[0;34m\u001b[0m\u001b[0m\n\u001b[0m\u001b[1;32m    845\u001b[0m         \u001b[0;32mif\u001b[0m \u001b[0mvals\u001b[0m\u001b[0;34m:\u001b[0m\u001b[0;34m\u001b[0m\u001b[0;34m\u001b[0m\u001b[0m\n\u001b[1;32m    846\u001b[0m             \u001b[0;32mreturn\u001b[0m \u001b[0mreduce\u001b[0m\u001b[0;34m(\u001b[0m\u001b[0mf\u001b[0m\u001b[0;34m,\u001b[0m \u001b[0mvals\u001b[0m\u001b[0;34m)\u001b[0m\u001b[0;34m\u001b[0m\u001b[0;34m\u001b[0m\u001b[0m\n",
            "\u001b[0;32m/usr/local/lib/python3.6/dist-packages/pyspark/rdd.py\u001b[0m in \u001b[0;36mcollect\u001b[0;34m(self)\u001b[0m\n\u001b[1;32m    814\u001b[0m         \"\"\"\n\u001b[1;32m    815\u001b[0m         \u001b[0;32mwith\u001b[0m \u001b[0mSCCallSiteSync\u001b[0m\u001b[0;34m(\u001b[0m\u001b[0mself\u001b[0m\u001b[0;34m.\u001b[0m\u001b[0mcontext\u001b[0m\u001b[0;34m)\u001b[0m \u001b[0;32mas\u001b[0m \u001b[0mcss\u001b[0m\u001b[0;34m:\u001b[0m\u001b[0;34m\u001b[0m\u001b[0;34m\u001b[0m\u001b[0m\n\u001b[0;32m--> 816\u001b[0;31m             \u001b[0msock_info\u001b[0m \u001b[0;34m=\u001b[0m \u001b[0mself\u001b[0m\u001b[0;34m.\u001b[0m\u001b[0mctx\u001b[0m\u001b[0;34m.\u001b[0m\u001b[0m_jvm\u001b[0m\u001b[0;34m.\u001b[0m\u001b[0mPythonRDD\u001b[0m\u001b[0;34m.\u001b[0m\u001b[0mcollectAndServe\u001b[0m\u001b[0;34m(\u001b[0m\u001b[0mself\u001b[0m\u001b[0;34m.\u001b[0m\u001b[0m_jrdd\u001b[0m\u001b[0;34m.\u001b[0m\u001b[0mrdd\u001b[0m\u001b[0;34m(\u001b[0m\u001b[0;34m)\u001b[0m\u001b[0;34m)\u001b[0m\u001b[0;34m\u001b[0m\u001b[0;34m\u001b[0m\u001b[0m\n\u001b[0m\u001b[1;32m    817\u001b[0m         \u001b[0;32mreturn\u001b[0m \u001b[0mlist\u001b[0m\u001b[0;34m(\u001b[0m\u001b[0m_load_from_socket\u001b[0m\u001b[0;34m(\u001b[0m\u001b[0msock_info\u001b[0m\u001b[0;34m,\u001b[0m \u001b[0mself\u001b[0m\u001b[0;34m.\u001b[0m\u001b[0m_jrdd_deserializer\u001b[0m\u001b[0;34m)\u001b[0m\u001b[0;34m)\u001b[0m\u001b[0;34m\u001b[0m\u001b[0;34m\u001b[0m\u001b[0m\n\u001b[1;32m    818\u001b[0m \u001b[0;34m\u001b[0m\u001b[0m\n",
            "\u001b[0;32m/usr/local/lib/python3.6/dist-packages/py4j/java_gateway.py\u001b[0m in \u001b[0;36m__call__\u001b[0;34m(self, *args)\u001b[0m\n\u001b[1;32m   1255\u001b[0m         \u001b[0manswer\u001b[0m \u001b[0;34m=\u001b[0m \u001b[0mself\u001b[0m\u001b[0;34m.\u001b[0m\u001b[0mgateway_client\u001b[0m\u001b[0;34m.\u001b[0m\u001b[0msend_command\u001b[0m\u001b[0;34m(\u001b[0m\u001b[0mcommand\u001b[0m\u001b[0;34m)\u001b[0m\u001b[0;34m\u001b[0m\u001b[0;34m\u001b[0m\u001b[0m\n\u001b[1;32m   1256\u001b[0m         return_value = get_return_value(\n\u001b[0;32m-> 1257\u001b[0;31m             answer, self.gateway_client, self.target_id, self.name)\n\u001b[0m\u001b[1;32m   1258\u001b[0m \u001b[0;34m\u001b[0m\u001b[0m\n\u001b[1;32m   1259\u001b[0m         \u001b[0;32mfor\u001b[0m \u001b[0mtemp_arg\u001b[0m \u001b[0;32min\u001b[0m \u001b[0mtemp_args\u001b[0m\u001b[0;34m:\u001b[0m\u001b[0;34m\u001b[0m\u001b[0;34m\u001b[0m\u001b[0m\n",
            "\u001b[0;32m/usr/local/lib/python3.6/dist-packages/py4j/protocol.py\u001b[0m in \u001b[0;36mget_return_value\u001b[0;34m(answer, gateway_client, target_id, name)\u001b[0m\n\u001b[1;32m    326\u001b[0m                 raise Py4JJavaError(\n\u001b[1;32m    327\u001b[0m                     \u001b[0;34m\"An error occurred while calling {0}{1}{2}.\\n\"\u001b[0m\u001b[0;34m.\u001b[0m\u001b[0;34m\u001b[0m\u001b[0;34m\u001b[0m\u001b[0m\n\u001b[0;32m--> 328\u001b[0;31m                     format(target_id, \".\", name), value)\n\u001b[0m\u001b[1;32m    329\u001b[0m             \u001b[0;32melse\u001b[0m\u001b[0;34m:\u001b[0m\u001b[0;34m\u001b[0m\u001b[0;34m\u001b[0m\u001b[0m\n\u001b[1;32m    330\u001b[0m                 raise Py4JError(\n",
            "\u001b[0;31mPy4JJavaError\u001b[0m: An error occurred while calling z:org.apache.spark.api.python.PythonRDD.collectAndServe.\n: org.apache.spark.SparkException: Job aborted due to stage failure: Task 0 in stage 39.0 failed 1 times, most recent failure: Lost task 0.0 in stage 39.0 (TID 2463, localhost, executor driver): org.apache.spark.api.python.PythonException: Traceback (most recent call last):\n  File \"/usr/local/lib/python3.6/dist-packages/pyspark/python/lib/pyspark.zip/pyspark/worker.py\", line 377, in main\n    process()\n  File \"/usr/local/lib/python3.6/dist-packages/pyspark/python/lib/pyspark.zip/pyspark/worker.py\", line 372, in process\n    serializer.dump_stream(func(split_index, iterator), outfile)\n  File \"/usr/local/lib/python3.6/dist-packages/pyspark/python/lib/pyspark.zip/pyspark/serializers.py\", line 400, in dump_stream\n    vs = list(itertools.islice(iterator, batch))\n  File \"/usr/local/lib/python3.6/dist-packages/pyspark/rdd.py\", line 839, in func\n    initial = next(iterator)\n  File \"/usr/local/lib/python3.6/dist-packages/pyspark/rdd.py\", line 1253, in countPartition\n    for obj in iterator:\n  File \"/usr/local/lib/python3.6/dist-packages/pyspark/python/lib/pyspark.zip/pyspark/util.py\", line 99, in wrapper\n    return f(*args, **kwargs)\n  File \"<ipython-input-103-de190b2df329>\", line 2, in <lambda>\nKeyError: 0\n\n\tat org.apache.spark.api.python.BasePythonRunner$ReaderIterator.handlePythonException(PythonRunner.scala:456)\n\tat org.apache.spark.api.python.PythonRunner$$anon$1.read(PythonRunner.scala:592)\n\tat org.apache.spark.api.python.PythonRunner$$anon$1.read(PythonRunner.scala:575)\n\tat org.apache.spark.api.python.BasePythonRunner$ReaderIterator.hasNext(PythonRunner.scala:410)\n\tat org.apache.spark.InterruptibleIterator.hasNext(InterruptibleIterator.scala:37)\n\tat scala.collection.Iterator$class.foreach(Iterator.scala:891)\n\tat org.apache.spark.InterruptibleIterator.foreach(InterruptibleIterator.scala:28)\n\tat scala.collection.generic.Growable$class.$plus$plus$eq(Growable.scala:59)\n\tat scala.collection.mutable.ArrayBuffer.$plus$plus$eq(ArrayBuffer.scala:104)\n\tat scala.collection.mutable.ArrayBuffer.$plus$plus$eq(ArrayBuffer.scala:48)\n\tat scala.collection.TraversableOnce$class.to(TraversableOnce.scala:310)\n\tat org.apache.spark.InterruptibleIterator.to(InterruptibleIterator.scala:28)\n\tat scala.collection.TraversableOnce$class.toBuffer(TraversableOnce.scala:302)\n\tat org.apache.spark.InterruptibleIterator.toBuffer(InterruptibleIterator.scala:28)\n\tat scala.collection.TraversableOnce$class.toArray(TraversableOnce.scala:289)\n\tat org.apache.spark.InterruptibleIterator.toArray(InterruptibleIterator.scala:28)\n\tat org.apache.spark.rdd.RDD$$anonfun$collect$1$$anonfun$15.apply(RDD.scala:990)\n\tat org.apache.spark.rdd.RDD$$anonfun$collect$1$$anonfun$15.apply(RDD.scala:990)\n\tat org.apache.spark.SparkContext$$anonfun$runJob$5.apply(SparkContext.scala:2101)\n\tat org.apache.spark.SparkContext$$anonfun$runJob$5.apply(SparkContext.scala:2101)\n\tat org.apache.spark.scheduler.ResultTask.runTask(ResultTask.scala:90)\n\tat org.apache.spark.scheduler.Task.run(Task.scala:123)\n\tat org.apache.spark.executor.Executor$TaskRunner$$anonfun$10.apply(Executor.scala:408)\n\tat org.apache.spark.util.Utils$.tryWithSafeFinally(Utils.scala:1360)\n\tat org.apache.spark.executor.Executor$TaskRunner.run(Executor.scala:414)\n\tat java.util.concurrent.ThreadPoolExecutor.runWorker(ThreadPoolExecutor.java:1149)\n\tat java.util.concurrent.ThreadPoolExecutor$Worker.run(ThreadPoolExecutor.java:624)\n\tat java.lang.Thread.run(Thread.java:748)\n\nDriver stacktrace:\n\tat org.apache.spark.scheduler.DAGScheduler.org$apache$spark$scheduler$DAGScheduler$$failJobAndIndependentStages(DAGScheduler.scala:1891)\n\tat org.apache.spark.scheduler.DAGScheduler$$anonfun$abortStage$1.apply(DAGScheduler.scala:1879)\n\tat org.apache.spark.scheduler.DAGScheduler$$anonfun$abortStage$1.apply(DAGScheduler.scala:1878)\n\tat scala.collection.mutable.ResizableArray$class.foreach(ResizableArray.scala:59)\n\tat scala.collection.mutable.ArrayBuffer.foreach(ArrayBuffer.scala:48)\n\tat org.apache.spark.scheduler.DAGScheduler.abortStage(DAGScheduler.scala:1878)\n\tat org.apache.spark.scheduler.DAGScheduler$$anonfun$handleTaskSetFailed$1.apply(DAGScheduler.scala:927)\n\tat org.apache.spark.scheduler.DAGScheduler$$anonfun$handleTaskSetFailed$1.apply(DAGScheduler.scala:927)\n\tat scala.Option.foreach(Option.scala:257)\n\tat org.apache.spark.scheduler.DAGScheduler.handleTaskSetFailed(DAGScheduler.scala:927)\n\tat org.apache.spark.scheduler.DAGSchedulerEventProcessLoop.doOnReceive(DAGScheduler.scala:2112)\n\tat org.apache.spark.scheduler.DAGSchedulerEventProcessLoop.onReceive(DAGScheduler.scala:2061)\n\tat org.apache.spark.scheduler.DAGSchedulerEventProcessLoop.onReceive(DAGScheduler.scala:2050)\n\tat org.apache.spark.util.EventLoop$$anon$1.run(EventLoop.scala:49)\n\tat org.apache.spark.scheduler.DAGScheduler.runJob(DAGScheduler.scala:738)\n\tat org.apache.spark.SparkContext.runJob(SparkContext.scala:2061)\n\tat org.apache.spark.SparkContext.runJob(SparkContext.scala:2082)\n\tat org.apache.spark.SparkContext.runJob(SparkContext.scala:2101)\n\tat org.apache.spark.SparkContext.runJob(SparkContext.scala:2126)\n\tat org.apache.spark.rdd.RDD$$anonfun$collect$1.apply(RDD.scala:990)\n\tat org.apache.spark.rdd.RDDOperationScope$.withScope(RDDOperationScope.scala:151)\n\tat org.apache.spark.rdd.RDDOperationScope$.withScope(RDDOperationScope.scala:112)\n\tat org.apache.spark.rdd.RDD.withScope(RDD.scala:385)\n\tat org.apache.spark.rdd.RDD.collect(RDD.scala:989)\n\tat org.apache.spark.api.python.PythonRDD$.collectAndServe(PythonRDD.scala:166)\n\tat org.apache.spark.api.python.PythonRDD.collectAndServe(PythonRDD.scala)\n\tat sun.reflect.GeneratedMethodAccessor71.invoke(Unknown Source)\n\tat sun.reflect.DelegatingMethodAccessorImpl.invoke(DelegatingMethodAccessorImpl.java:43)\n\tat java.lang.reflect.Method.invoke(Method.java:498)\n\tat py4j.reflection.MethodInvoker.invoke(MethodInvoker.java:244)\n\tat py4j.reflection.ReflectionEngine.invoke(ReflectionEngine.java:357)\n\tat py4j.Gateway.invoke(Gateway.java:282)\n\tat py4j.commands.AbstractCommand.invokeMethod(AbstractCommand.java:132)\n\tat py4j.commands.CallCommand.execute(CallCommand.java:79)\n\tat py4j.GatewayConnection.run(GatewayConnection.java:238)\n\tat java.lang.Thread.run(Thread.java:748)\nCaused by: org.apache.spark.api.python.PythonException: Traceback (most recent call last):\n  File \"/usr/local/lib/python3.6/dist-packages/pyspark/python/lib/pyspark.zip/pyspark/worker.py\", line 377, in main\n    process()\n  File \"/usr/local/lib/python3.6/dist-packages/pyspark/python/lib/pyspark.zip/pyspark/worker.py\", line 372, in process\n    serializer.dump_stream(func(split_index, iterator), outfile)\n  File \"/usr/local/lib/python3.6/dist-packages/pyspark/python/lib/pyspark.zip/pyspark/serializers.py\", line 400, in dump_stream\n    vs = list(itertools.islice(iterator, batch))\n  File \"/usr/local/lib/python3.6/dist-packages/pyspark/rdd.py\", line 839, in func\n    initial = next(iterator)\n  File \"/usr/local/lib/python3.6/dist-packages/pyspark/rdd.py\", line 1253, in countPartition\n    for obj in iterator:\n  File \"/usr/local/lib/python3.6/dist-packages/pyspark/python/lib/pyspark.zip/pyspark/util.py\", line 99, in wrapper\n    return f(*args, **kwargs)\n  File \"<ipython-input-103-de190b2df329>\", line 2, in <lambda>\nKeyError: 0\n\n\tat org.apache.spark.api.python.BasePythonRunner$ReaderIterator.handlePythonException(PythonRunner.scala:456)\n\tat org.apache.spark.api.python.PythonRunner$$anon$1.read(PythonRunner.scala:592)\n\tat org.apache.spark.api.python.PythonRunner$$anon$1.read(PythonRunner.scala:575)\n\tat org.apache.spark.api.python.BasePythonRunner$ReaderIterator.hasNext(PythonRunner.scala:410)\n\tat org.apache.spark.InterruptibleIterator.hasNext(InterruptibleIterator.scala:37)\n\tat scala.collection.Iterator$class.foreach(Iterator.scala:891)\n\tat org.apache.spark.InterruptibleIterator.foreach(InterruptibleIterator.scala:28)\n\tat scala.collection.generic.Growable$class.$plus$plus$eq(Growable.scala:59)\n\tat scala.collection.mutable.ArrayBuffer.$plus$plus$eq(ArrayBuffer.scala:104)\n\tat scala.collection.mutable.ArrayBuffer.$plus$plus$eq(ArrayBuffer.scala:48)\n\tat scala.collection.TraversableOnce$class.to(TraversableOnce.scala:310)\n\tat org.apache.spark.InterruptibleIterator.to(InterruptibleIterator.scala:28)\n\tat scala.collection.TraversableOnce$class.toBuffer(TraversableOnce.scala:302)\n\tat org.apache.spark.InterruptibleIterator.toBuffer(InterruptibleIterator.scala:28)\n\tat scala.collection.TraversableOnce$class.toArray(TraversableOnce.scala:289)\n\tat org.apache.spark.InterruptibleIterator.toArray(InterruptibleIterator.scala:28)\n\tat org.apache.spark.rdd.RDD$$anonfun$collect$1$$anonfun$15.apply(RDD.scala:990)\n\tat org.apache.spark.rdd.RDD$$anonfun$collect$1$$anonfun$15.apply(RDD.scala:990)\n\tat org.apache.spark.SparkContext$$anonfun$runJob$5.apply(SparkContext.scala:2101)\n\tat org.apache.spark.SparkContext$$anonfun$runJob$5.apply(SparkContext.scala:2101)\n\tat org.apache.spark.scheduler.ResultTask.runTask(ResultTask.scala:90)\n\tat org.apache.spark.scheduler.Task.run(Task.scala:123)\n\tat org.apache.spark.executor.Executor$TaskRunner$$anonfun$10.apply(Executor.scala:408)\n\tat org.apache.spark.util.Utils$.tryWithSafeFinally(Utils.scala:1360)\n\tat org.apache.spark.executor.Executor$TaskRunner.run(Executor.scala:414)\n\tat java.util.concurrent.ThreadPoolExecutor.runWorker(ThreadPoolExecutor.java:1149)\n\tat java.util.concurrent.ThreadPoolExecutor$Worker.run(ThreadPoolExecutor.java:624)\n\t... 1 more\n"
          ]
        }
      ]
    },
    {
      "cell_type": "markdown",
      "metadata": {
        "id": "9MKmESvVRw9P",
        "colab_type": "text"
      },
      "source": [
        "Los datos son muy parecidos, aunque se observa, como habiamos visto antes un mayor decrecimiento en los datos diarios ya que hay un mayor uso por parte de los trabajdores."
      ]
    },
    {
      "cell_type": "markdown",
      "metadata": {
        "id": "94H1EyV88Vcp",
        "colab_type": "text"
      },
      "source": [
        "Esto de aqui abajo lo he hecho pero no sabia por que y lo he dejado asi jaja"
      ]
    },
    {
      "cell_type": "code",
      "metadata": {
        "id": "KU7ETUMV8pqy",
        "colab_type": "code",
        "colab": {}
      },
      "source": [
        "#Esta RDD ya tiene los datos importantes usando la funcion mapper        \n",
        "rddNocturna_ordenada = rddNocturna_datos.map(lambda x: (x[2], 1)).groupByKey().mapValues(tuple).map(lambda x: (len(x[1]), x[0]))\n",
        "rddNocturna_ordenada.sortByKey(False).map(lambda x: (x[1], x[0])).take(50)"
      ],
      "execution_count": 0,
      "outputs": []
    },
    {
      "cell_type": "code",
      "metadata": {
        "id": "WmHXETtfdQzK",
        "colab_type": "code",
        "colab": {}
      },
      "source": [
        "rddNocturna_datos.filter(lambda x: x[2] == 57).map(lambda x: (x[2], x[3])).take(30)"
      ],
      "execution_count": 0,
      "outputs": []
    },
    {
      "cell_type": "markdown",
      "metadata": {
        "id": "VOwaGVj1WjlW",
        "colab_type": "text"
      },
      "source": [
        "La estacion de la que parten mas bicis es de la 57, veamos que estaciones tienen como destino"
      ]
    },
    {
      "cell_type": "markdown",
      "metadata": {
        "id": "uiIEjE3OCNa2",
        "colab_type": "text"
      },
      "source": [
        "## **Estaciones más y menos usadas**"
      ]
    },
    {
      "cell_type": "markdown",
      "metadata": {
        "id": "ksCFFbtoCTJt",
        "colab_type": "text"
      },
      "source": [
        "Esto se me ha ocurrido hacerlo sobre la marcha y creo que estaría bien."
      ]
    },
    {
      "cell_type": "markdown",
      "metadata": {
        "id": "aSZkdz0uBYDC",
        "colab_type": "text"
      },
      "source": [
        "# **Comparativa entre un mes de invierno y un mes de verano**"
      ]
    },
    {
      "cell_type": "markdown",
      "metadata": {
        "id": "lIpc2qmoBi5c",
        "colab_type": "text"
      },
      "source": [
        "AQUÍ SE SUPONE QUE VA LO MISMO QUE LO DE LOS 6 MESES PERO PARA CADA MES ENERO Y JULIO. eN TEORÍA SE IRÍA HACIENDO CADA COSA A LA VEZ EN LOS DOS MESESY SE VA COMPARANDO."
      ]
    },
    {
      "cell_type": "markdown",
      "metadata": {
        "id": "A5-Zr47G_ogp",
        "colab_type": "text"
      },
      "source": [
        "# **Pruebas berni**"
      ]
    },
    {
      "cell_type": "code",
      "metadata": {
        "id": "2UZqP0d-_47e",
        "colab_type": "code",
        "colab": {}
      },
      "source": [
        "#rdb es el rdd de los trabajadores\n",
        "rdb = rdd_raw.map(mapper).filter(lambda x: x[0]==3).map(lambda x: ((x[1],[x[i] for i in range(2,7)])))\n",
        "rdb.take(1)"
      ],
      "execution_count": 0,
      "outputs": []
    },
    {
      "cell_type": "code",
      "metadata": {
        "id": "BP9GkNnsGTfu",
        "colab_type": "code",
        "colab": {}
      },
      "source": [
        "#rdb por usuarios\n",
        "rdbpu=rdb.groupByKey().mapValues(len)\n",
        "rdbpu.count()\n",
        "#hay 853, diferenciados por día (unos 43 trabajadores fijos??)\n",
        "rdbpu.take(10)"
      ],
      "execution_count": 0,
      "outputs": []
    },
    {
      "cell_type": "code",
      "metadata": {
        "id": "kATFdteYB30x",
        "colab_type": "code",
        "colab": {}
      },
      "source": [
        "#rdb por días\n",
        "rdbpd = rdb.map(lambda x: (x[1][3][-3:],1))\n",
        "rdbpd.take(2)\n",
        "pd_dicc=rdbpd.countByKey()\n",
        "pd_list = sorted(pd_dicc.items(), key=lambda x:x[0])\n",
        "plt.figure(figsize=(15,5))\n",
        "plt.bar(pd_dicc.keys(), pd_dicc.values())\n",
        "#no nos da mucha info (quizá ver cuándo son los findes)"
      ],
      "execution_count": 0,
      "outputs": []
    },
    {
      "cell_type": "code",
      "metadata": {
        "id": "5Ck1YZCVFrxJ",
        "colab_type": "code",
        "colab": {}
      },
      "source": [
        "#rdb por horas\n",
        "rdbph = rdb.map(lambda x: (x[1][4],x[0]))\n",
        "rdbph.take(2)\n",
        "ph_dicc=rdbph.countByKey()\n",
        "ph_list = sorted(ph_dicc.items(), key=lambda x:x[0])\n",
        "plt.figure(figsize=(15,5))\n",
        "plt.bar(ph_dicc.keys(), ph_dicc.values())"
      ],
      "execution_count": 0,
      "outputs": []
    },
    {
      "cell_type": "code",
      "metadata": {
        "id": "Y5ENYzf4LQfa",
        "colab_type": "code",
        "colab": {}
      },
      "source": [
        "def reparacion(line):\n",
        "  #se trata de una reparación en la misma estación\n",
        "  data = json.loads(line)\n",
        "  user = data['user_type']\n",
        "  start = data['idunplug_station']\n",
        "  end = data['idplug_station']\n",
        "  time = data['travel_time']\n",
        "  return user==3 and start==end\n",
        "def traslado(line):\n",
        "  #se trata de una reparación en la misma estación\n",
        "  data = json.loads(line)\n",
        "  user = data['user_type']\n",
        "  start = data['idunplug_station']\n",
        "  end = data['idplug_station']\n",
        "  time = data['travel_time']\n",
        "  return user==3 and start!=end\n",
        "def no_funciona (line):\n",
        "  #se trata de una reparación en la misma estación\n",
        "  data = json.loads(line)\n",
        "  user = data['user_type']\n",
        "  start = data['idunplug_station']\n",
        "  end = data['idplug_station']\n",
        "  time = data['travel_time']\n",
        "  return user!=3 and start==end #and time < 121"
      ],
      "execution_count": 0,
      "outputs": []
    },
    {
      "cell_type": "code",
      "metadata": {
        "id": "po9-P9ijNSvl",
        "colab_type": "code",
        "colab": {}
      },
      "source": [
        "#nos quedamos con las reparaciones\n",
        "rddrep = rdd_raw.filter(reparacion).map(mapper)\n",
        "repN = rddrep.count() #hay 5361 veamos cuantas son reparadas de verdad, o solo comprobadas\n",
        "rddrep.take(1)"
      ],
      "execution_count": 0,
      "outputs": []
    },
    {
      "cell_type": "code",
      "metadata": {
        "id": "rSvVlTbpPi_B",
        "colab_type": "code",
        "colab": {}
      },
      "source": [
        "limite=61\n",
        "repF=rddrep.filter(lambda x: x[4]<limite).map(lambda x:(x[4],1)).count()\n",
        "repT=rddrep.filter(lambda x: x[4]>=limite).map(lambda x:(x[4],1)).count()"
      ],
      "execution_count": 0,
      "outputs": []
    },
    {
      "cell_type": "code",
      "metadata": {
        "id": "XT_Goc46RzH9",
        "colab_type": "code",
        "colab": {}
      },
      "source": [
        "repF/(repN) #proporción del 95% de reparaciones rápidas\n",
        "plt.figure(figsize=(10,4))\n",
        "plt.bar((\"reparaciones rápidas\",\"reparaciones pausadas\"),(repF,repT))"
      ],
      "execution_count": 0,
      "outputs": []
    },
    {
      "cell_type": "code",
      "metadata": {
        "id": "i_1l0FZbUybR",
        "colab_type": "code",
        "colab": {}
      },
      "source": [
        "#nos quedamos con los traslados\n",
        "rddtra = rdd_raw.filter(traslado).map(mapper)\n",
        "traN = rddtra.count() #16115\n",
        "rddtra.take(1)"
      ],
      "execution_count": 0,
      "outputs": []
    },
    {
      "cell_type": "code",
      "metadata": {
        "id": "ecOTSb5QVSYt",
        "colab_type": "code",
        "colab": {}
      },
      "source": [
        "repF/(repN) #proporción del 95% de reparaciones rápidas\n",
        "plt.figure(figsize=(10,4))\n",
        "plt.bar((\"reparaciones\",\"traslados\"),(repN,traN))"
      ],
      "execution_count": 0,
      "outputs": []
    },
    {
      "cell_type": "code",
      "metadata": {
        "id": "-DJa6ebAVgoh",
        "colab_type": "code",
        "colab": {}
      },
      "source": [
        "#nos quedamos con los viajes en que no funciona la bici\n",
        "rddnof = rdd_raw.filter(no_funciona).map(mapper)\n",
        "nofN = rddnof.count() #16115\n",
        "rddnof.take(1)"
      ],
      "execution_count": 0,
      "outputs": []
    },
    {
      "cell_type": "code",
      "metadata": {
        "id": "Q26J0PupWRjQ",
        "colab_type": "code",
        "colab": {}
      },
      "source": [
        "qwe = rddnof.map(lambda x: (x[4],1)).groupByKey().mapValues(len)\n",
        "qwe.count()"
      ],
      "execution_count": 0,
      "outputs": []
    },
    {
      "cell_type": "code",
      "metadata": {
        "id": "yImxNMu3WKyK",
        "colab_type": "code",
        "colab": {}
      },
      "source": [
        "#vamos a ver cuantos de los que cogen la bici por la noche la cogen luego otra vez en ese día\n",
        "#sin contar trabajadores\n",
        "rdda = rdd_raw.map(mapper).filter(lambda x: x[0]!=3).map(lambda x: ((x[0],x[1]),tuple(x[2:7])))\n",
        "rdda.take(2)"
      ],
      "execution_count": 0,
      "outputs": []
    },
    {
      "cell_type": "code",
      "metadata": {
        "id": "Acasy0IZXx8Y",
        "colab_type": "code",
        "colab": {}
      },
      "source": [
        "a1 = rdda.groupByKey().mapValues(len).filter(lambda x: x[1]==1).count() #cuantos hacen solo un viaje:  89036"
      ],
      "execution_count": 0,
      "outputs": []
    },
    {
      "cell_type": "code",
      "metadata": {
        "id": "aVqZtS22X0yx",
        "colab_type": "code",
        "colab": {}
      },
      "source": [
        "a2 = rdda.groupByKey().mapValues(len).filter(lambda x: x[1]!=1).count() #cuantos hacen mas de un viaje: 68954"
      ],
      "execution_count": 0,
      "outputs": []
    },
    {
      "cell_type": "code",
      "metadata": {
        "id": "2wkhzn8EZF1E",
        "colab_type": "code",
        "colab": {}
      },
      "source": [
        "rddan = rdda.map(lambda x: (x[0],int(x[1][4])))"
      ],
      "execution_count": 0,
      "outputs": []
    },
    {
      "cell_type": "code",
      "metadata": {
        "id": "jVuW3R6wcSA9",
        "colab_type": "code",
        "colab": {}
      },
      "source": [
        "rddan.take(1)"
      ],
      "execution_count": 0,
      "outputs": []
    },
    {
      "cell_type": "code",
      "metadata": {
        "id": "WBXfcwRuknn4",
        "colab_type": "code",
        "colab": {}
      },
      "source": [
        "def to_list(a):\n",
        "    return [a]\n",
        "\n",
        "def append(a, b):\n",
        "    a.append(b)\n",
        "    return a\n",
        "\n",
        "def extend(a, b):\n",
        "    a.extend(b)\n",
        "    return a"
      ],
      "execution_count": 0,
      "outputs": []
    },
    {
      "cell_type": "code",
      "metadata": {
        "id": "K5r71I1coMfK",
        "colab_type": "code",
        "colab": {}
      },
      "source": [
        "qwe = rddan.combineByKey(to_list, append, extend).map(lambda x: (sorted(x[1]),x[0]))"
      ],
      "execution_count": 0,
      "outputs": []
    },
    {
      "cell_type": "code",
      "metadata": {
        "id": "boOhNnmKokGH",
        "colab_type": "code",
        "colab": {}
      },
      "source": [
        "qwe.take(3)"
      ],
      "execution_count": 0,
      "outputs": []
    },
    {
      "cell_type": "code",
      "metadata": {
        "id": "T-W_nEtAl4uW",
        "colab_type": "code",
        "colab": {}
      },
      "source": [
        "qwe1 = qwe.filter(lambda x: len(x[0])==1 and min(x[0])<6)\n",
        "qwe2 = qwe.filter(lambda x: len(x[0])>1 and min(x[0])<6)"
      ],
      "execution_count": 0,
      "outputs": []
    },
    {
      "cell_type": "code",
      "metadata": {
        "id": "FFqHITavmJbd",
        "colab_type": "code",
        "colab": {}
      },
      "source": [
        "qwe1.count() #10698 la usan solo una vez"
      ],
      "execution_count": 0,
      "outputs": []
    },
    {
      "cell_type": "code",
      "metadata": {
        "id": "wTIiN8W-n6D6",
        "colab_type": "code",
        "colab": {}
      },
      "source": [
        "qwe2.count() #7915 la usan más veces además de en horario nocturno"
      ],
      "execution_count": 0,
      "outputs": []
    },
    {
      "cell_type": "code",
      "metadata": {
        "id": "HA3y-XN2prcv",
        "colab_type": "code",
        "colab": {}
      },
      "source": [
        "#ahora vemos de estos las proporciones de usuarios de tipo 1 y 2\n",
        "qwe11=qwe1.filter(lambda x: x[1][0]==1).count()\n",
        "qwe12=qwe1.filter(lambda x: x[1][0]==2).count()"
      ],
      "execution_count": 0,
      "outputs": []
    },
    {
      "cell_type": "code",
      "metadata": {
        "id": "_gKw_c1jqPWQ",
        "colab_type": "code",
        "colab": {}
      },
      "source": [
        "qwe21=qwe2.filter(lambda x: x[1][0]==1).count()\n",
        "qwe22=qwe2.filter(lambda x: x[1][0]==2).count()"
      ],
      "execution_count": 0,
      "outputs": []
    },
    {
      "cell_type": "markdown",
      "metadata": {
        "id": "c51Tzz5PWhSO",
        "colab_type": "text"
      },
      "source": [
        "# **PROBLEMA**\n",
        "  Un usuario desea viajar de una estación a otra en una cierta hora pero no sabe como será la disponibilidad de bicicletas en ese sitio ni si habrá sitio en el lugar de destino, por lo que basando en el historial de ese mismo mes, veremos si el cliente podrá realizar su viaje sin problemas o habrá que recoemndarle rutas alternativas"
      ]
    },
    {
      "cell_type": "code",
      "metadata": {
        "id": "BCVO8hysXP3G",
        "colab_type": "code",
        "colab": {}
      },
      "source": [
        "origen = input('Estación de la que se desea partir: ')\n",
        "destino = input('Estación a la que se desea llegar: ')\n",
        "hora_Viaje = input('Hora a la que se desea realizar el viaje: ')  "
      ],
      "execution_count": 0,
      "outputs": []
    },
    {
      "cell_type": "markdown",
      "metadata": {
        "id": "EdMt5GtPZHRu",
        "colab_type": "text"
      },
      "source": [
        "Voy a hacer un filtrado simple del fichero de datos de las situaciones de las estaciones para ver como podriamos obtener la informacion que nos interesa dependiendo de la estacion del cliente."
      ]
    },
    {
      "cell_type": "code",
      "metadata": {
        "id": "Y56-esIUqxQQ",
        "colab_type": "code",
        "colab": {}
      },
      "source": [
        "#Hagamos una lista con los datos de todas las estaciones para tenerlos a \n",
        "def crearDiEst(lista):\n",
        "  dicEstac = {}\n",
        "  for station in lista:\n",
        "    dicEstac[station['number']] = {}\n",
        "    dicEstac[station['number']]['id'] = station['id']\n",
        "    dicEstac[station['number']]['latitude'] = station['latitude']\n",
        "    dicEstac[station['number']]['longitude'] = station['longitude']\n",
        "    dicEstac[station['number']]['name'] = station['name']\n",
        "    dicEstac[station['number']]['total_bases'] = station['total_bases']\n",
        "  return dicEstac\n",
        "\n",
        "listEstacion = rdd_stations['201901'].map(lambda x: crearDiEst(x['station'])).take(1)\n",
        "dicEstaciones = listEstacion[0]\n",
        "dicEstaciones['57']#Datos de la estacion 57"
      ],
      "execution_count": 0,
      "outputs": []
    },
    {
      "cell_type": "code",
      "metadata": {
        "id": "mAjDLNd4ar3A",
        "colab_type": "code",
        "colab": {}
      },
      "source": [
        "#Intentemos ver ahora la probabilidad de encontrar bici a la hora que nos dice el cliente.\n",
        "#De momento establezco yo la hora por comodidad, la estacion de origen y destino tambien\n",
        "origen = '57'\n",
        "destino = '38'\n",
        "horaCliente = '03:00:00'"
      ],
      "execution_count": 0,
      "outputs": []
    },
    {
      "cell_type": "code",
      "metadata": {
        "id": "XeSKsPb1bCy0",
        "colab_type": "code",
        "colab": {}
      },
      "source": [
        "#De todas las estaciones que hay en todos los datos vamos a intentar quedarnos tan solo con los que son de la estacion que queremos\n",
        "def estaciones(lista):\n",
        "  filtro = []\n",
        "  for estacion in lista['station']:\n",
        "    if estacion['number'] == origen or estacion['number'] == destino:\n",
        "      filtro.append(estacion)\n",
        "  return {\"day\":lista['day'],\n",
        "          \"hour\":lista['hour'],\n",
        "          \"station\":filtro}\n",
        "\n",
        "rddE_Sit_fil = rdd_stations['201901'].map(estaciones)\n",
        "rddE_Sit_fil.take(3)\n"
      ],
      "execution_count": 0,
      "outputs": []
    },
    {
      "cell_type": "code",
      "metadata": {
        "id": "CiBsSYYOKCCU",
        "colab_type": "code",
        "colab": {}
      },
      "source": [
        "#Veamos ahora la probabilidad de que el usuario encuentre una bici disponible en la estacion de partida\n",
        "\n",
        "def filtPorHora(hora, rango):\n",
        "    horaViaje = int(horaCliente[0:2]) * 3600 + int(horaCliente[3:5]) * 60 + int(horaCliente[6:8])\n",
        "    horaDatos = int(hora[0:2]) * 3600 + int(hora[3:5]) * 60 + int(hora[6:8])\n",
        "    if horaViaje - rango < 0:\n",
        "      return horaDatos < horaViaje + rango\n",
        "    else:\n",
        "      return horaViaje - rango < horaDatos < horaViaje + rango\n",
        "\n",
        "def calcularBicisLibres(lista):\n",
        "  #bicisLibres = []\n",
        "  for station in lista:\n",
        "    if station['number'] == origen:\n",
        "      return station['dock_bikes'] - station['reservations_count']\n",
        "\n",
        "bicisLibres = rddE_Sit_fil.filter(lambda x: filtPorHora(x['hour'], 3600)).map(lambda x: [calcularBicisLibres(x['station'])]).reduce(lambda a, b: a+b)\n",
        "\n",
        "print('La media de bicicletas libres respecto a la hora elegida es:',int(stats.mean(bicisLibres)))\n",
        "#La media esta realizada para los datos obtenidos en el rango una hora respecto a la dicha por el cliente\n",
        "\n",
        "#Por lo tanto la probabilidad de que encuentre una bici disponible es la siguiente\n",
        "basesTotales = dicEstaciones[origen]['total_bases']\n",
        "prob = sum(bicisLibres) / (basesTotales * len(bicisLibres))\n",
        "print('La probabilidad de que haya una bicicleta libre es del', str(100*prob)+'%')"
      ],
      "execution_count": 0,
      "outputs": []
    },
    {
      "cell_type": "markdown",
      "metadata": {
        "id": "2DO51242ZZiD",
        "colab_type": "text"
      },
      "source": [
        ""
      ]
    },
    {
      "cell_type": "markdown",
      "metadata": {
        "id": "oMiZlGyZviMM",
        "colab_type": "text"
      },
      "source": [
        "Antes de esto que esta hecho, podriamos hacer unas graficas indicando las hora en las que se hacen esos viajes, si son mas comunes en fin de semana o entre semana... (Le podemos dar el toque nocturno y ademas usar todo lo que esta arriba de los graficos que tiene relacion con esto)"
      ]
    },
    {
      "cell_type": "markdown",
      "metadata": {
        "id": "_crjdx0PuxE1",
        "colab_type": "text"
      },
      "source": [
        "Primero vamos a hacer un analisis del viaje que quiere realizar el cliente"
      ]
    },
    {
      "cell_type": "code",
      "metadata": {
        "id": "AJN1dcA-YyfH",
        "colab_type": "code",
        "colab": {}
      },
      "source": [
        "rddInvierno_viaje = rdd_usages['201901-06'].filter(lambda x: x['start'] == int(origen) and x['end'] == int(destino))\n",
        "print('Total de viajes similares al del cliente: ', rddInvierno_viaje.count())"
      ],
      "execution_count": 0,
      "outputs": []
    },
    {
      "cell_type": "code",
      "metadata": {
        "id": "WY5lJYnCvF5a",
        "colab_type": "code",
        "colab": {}
      },
      "source": [
        "#Veamos cuales son las horas mas comunes para realizar este tipo de viaje.\n",
        "#fig = plt.figure()\n",
        "dicc = rddInvierno_viaje.map(lambda x: (int(x['hour'][0:2]), 1)).countByKey()\n",
        "dicc_list = sorted(dicc.keys())\n",
        "plt.figure(figsize=(15,5))\n",
        "plt.title(\"Usuarios que realizan el viaje \"+origen+ \" --> \"+destino )\n",
        "plt.bar(dicc.keys(), dicc.values())\n",
        "plt.xlabel('Horas', fontsize=18)\n",
        "plt.ylabel('Cantidad de usuarios', fontsize=16)\n",
        "plt.show()\n",
        "#plt.xticks(dicc.keys(), dicc_list) No he conseguido que se ponga el numero en todos los contenedores"
      ],
      "execution_count": 0,
      "outputs": []
    },
    {
      "cell_type": "code",
      "metadata": {
        "id": "DT0_WQ0R9uSB",
        "colab_type": "code",
        "colab": {}
      },
      "source": [
        "#Veamos si hay alguna diferencia en el tipo de usuarios que han realizado el viaje\n",
        "rddInvierno_viaje.map(lambda x: (x['user_type'], 1)).countByKey()"
      ],
      "execution_count": 0,
      "outputs": []
    },
    {
      "cell_type": "code",
      "metadata": {
        "id": "GIJd8QuR7tss",
        "colab_type": "code",
        "colab": {}
      },
      "source": [
        "#Veamos la edad de los usuarios que predomina realizando este viaje. \n",
        "rddInvierno_viaje.map(lambda x: (x['age'], 1)).countByKey()"
      ],
      "execution_count": 0,
      "outputs": []
    },
    {
      "cell_type": "code",
      "metadata": {
        "id": "78IrAbTkaHQf",
        "colab_type": "code",
        "colab": {}
      },
      "source": [
        "#Estudiemos ahora las medias en tiempo de todos los viajes, el coste del viaje, etc.\n",
        "import statistics as stats\n",
        "listaTiempos = rddInvierno_viaje.map(lambda x: ([x['travel_time']])).reduce(lambda a, b: a + b)\n",
        "print('La media de tiempo empleado por otros usuarios es: ',stats.mean(listaTiempos), 'segundos')"
      ],
      "execution_count": 0,
      "outputs": []
    },
    {
      "cell_type": "markdown",
      "metadata": {
        "id": "TsbmXr3w2wCW",
        "colab_type": "text"
      },
      "source": [
        "Esta media de tiempo incluye los viajes a cualquier tipo de hora, pero los que nos interesan son los que se realizan por la noche. Veamos ahora si realizar este trayecto por el día o por la noche afecta en el tiempo medio para recorrer el trayecto. Con este analisis, se verá si afecta el tráfico ya que es el principal causante del incremento en el tiempo de un viaje"
      ]
    },
    {
      "cell_type": "code",
      "metadata": {
        "id": "JuVv0eWrmtmx",
        "colab_type": "code",
        "colab": {}
      },
      "source": [
        "#Diferencias de los tiempos medios entre las horas nocturnas y las horas diurnas\n",
        "\n",
        "tiemposNoc = rddInvierno_viaje.filter(horasNocturnas).map(lambda x: ([x['travel_time']])).reduce(lambda a, b: a + b)\n",
        "tiemposDiu = rddInvierno_viaje.filter(horasDiurnas).map(lambda x: ([x['travel_time']])).reduce(lambda a, b: a + b)"
      ],
      "execution_count": 0,
      "outputs": []
    },
    {
      "cell_type": "code",
      "metadata": {
        "id": "T4xKJ-R07MB-",
        "colab_type": "code",
        "colab": {}
      },
      "source": [
        "mediaNocturna = stats.mean(tiemposNoc)\n",
        "mediaDiurna = stats.mean(tiemposDiu)\n",
        "print('Tiempo medio de viajes nocturnos es: ',mediaNocturna, 'segundos')\n",
        "print('Tiempo medio de viajes diurnos es: ',mediaDiurna, 'segundos')\n",
        "if mediaNocturna < mediaDiurna:\n",
        "  print(\"\\nEl tiempo para recorrer el trayecto si se ve afectado por el tráfico, reduciendolo, \\nen las horas nocturnas\")\n",
        "else:\n",
        "  print(\"El tráfico no afecta a este trayecto\")"
      ],
      "execution_count": 0,
      "outputs": []
    },
    {
      "cell_type": "markdown",
      "metadata": {
        "id": "BSVrsSg2kEQu",
        "colab_type": "text"
      },
      "source": [
        "En caso de no tener claro el trayecto para llegar al destino, le indicaremos al cliente que calles han sido las más transitadas realizando el viaje que se desea hacer."
      ]
    },
    {
      "cell_type": "code",
      "metadata": {
        "id": "bYEKj0PGvSir",
        "colab_type": "code",
        "colab": {}
      },
      "source": [
        "#Lo uso para ver como son los datos\n",
        "rddInvierno_viaje.map(lambda x: x['track']).take(5)"
      ],
      "execution_count": 0,
      "outputs": []
    },
    {
      "cell_type": "code",
      "metadata": {
        "id": "x-Z8ZI0DGcqM",
        "colab_type": "code",
        "colab": {}
      },
      "source": [
        "#Tan solo estudiaremos los trayectos nocturnos para este caso ya que es lo que nos interesa.\n",
        "\n",
        "def obtenerCalles(line):\n",
        "  listaCalles = []\n",
        "  data = line['track']\n",
        "  for value in data['features']:\n",
        "    try:\n",
        "      calle = value['properties']['var'].split(\",\")\n",
        "      listaCalles.append(calle[4])\n",
        "    except:\n",
        "      None\n",
        "  if len(listaCalles) > 0:\n",
        "    return ([listaCalles[-1]], [listaCalles[0]]) #Porque el primer dato es el último que se recibe (de ahí el -1).\n",
        "\n",
        "rddInvierno_viaje.filter(horasNocturnas).filter(lambda x: x['user_type'] != 3 and x['track'] != None)\\\n",
        ".map(obtenerCalles).collect()#reduce(lambda x, y: [x[0] + y[0], x[1], y[1]])\n"
      ],
      "execution_count": 0,
      "outputs": []
    },
    {
      "cell_type": "markdown",
      "metadata": {
        "id": "-ulpd2B-Df18",
        "colab_type": "text"
      },
      "source": [
        "Aqui faltaria todavia hacer el ranking"
      ]
    },
    {
      "cell_type": "markdown",
      "metadata": {
        "id": "UuHsKmAwHR1w",
        "colab_type": "text"
      },
      "source": [
        "Hagamos ahora el mismo estudio que al principio y veamos la cantidad de huecos libres que hay en la estación de destino. "
      ]
    },
    {
      "cell_type": "code",
      "metadata": {
        "id": "Iu1Tt6i-IA6n",
        "colab_type": "code",
        "colab": {}
      },
      "source": [
        "def filtPorHora2(hora, rango):\n",
        "    horaViaje = int(horaCliente[0:2]) * 3600 + int(horaCliente[3:5]) * 60 + int(horaCliente[6:8]) + mediaNocturna\n",
        "    horaDatos = int(hora[0:2]) * 3600 + int(hora[3:5]) * 60 + int(hora[6:8])\n",
        "    if horaViaje - rango < 0:\n",
        "      return horaDatos < horaViaje + rango\n",
        "    else:\n",
        "      return horaViaje - rango < horaDatos < horaViaje + rango\n",
        "\n",
        "def calcularBasesLibres(lista):\n",
        "  #bicisLibres = []\n",
        "  for station in lista:\n",
        "    if station['number'] == destino:\n",
        "      return station['free_bases']\n",
        "\n",
        "basesLibres = rddE_Sit_fil.filter(lambda x: filtPorHora2(x['hour'], 3600)).map(lambda x: [calcularBasesLibres(x['station'])]).reduce(lambda a, b: a+b)\n",
        "\n",
        "print('La media de bicicletas libres respecto a la hora elegida es:',int(stats.mean(basesLibres)))\n",
        "#La media esta realizada para los datos obtenidos en el rango una hora respecto a la dicha por el cliente\n",
        "\n",
        "#Por lo tanto la probabilidad de que encuentre una bici disponible es la siguiente\n",
        "basesTotales = dicEstaciones[destino]['total_bases']\n",
        "prob = sum(basesLibres) / (basesTotales * len(basesLibres))\n",
        "print('La probabilidad de que haya una bicicleta libre es del', str(100*prob)+'%')"
      ],
      "execution_count": 0,
      "outputs": []
    }
  ]
}